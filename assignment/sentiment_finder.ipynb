{
 "cells": [
  {
   "cell_type": "code",
   "execution_count": 1,
   "metadata": {},
   "outputs": [],
   "source": [
    "import pandas as pd\n",
    "import os\n"
   ]
  },
  {
   "cell_type": "code",
   "execution_count": 2,
   "metadata": {},
   "outputs": [
    {
     "name": "stdout",
     "output_type": "stream",
     "text": [
      "<class 'pandas.core.frame.DataFrame'>\n",
      "RangeIndex: 11 entries, 0 to 10\n",
      "Data columns (total 1 columns):\n",
      "Comment    11 non-null object\n",
      "dtypes: object(1)\n",
      "memory usage: 168.0+ bytes\n",
      "None\n"
     ]
    }
   ],
   "source": [
    "dir=r\"D:\\Users\\sagarv\\Desktop\\Inputfiles\"\n",
    "text=pd.read_csv(os.path.join(dir,\"NLPdataEx5data_senti_analyze.txt\"),sep='\\t',names=['Comment'])\n",
    "print(text.info())"
   ]
  },
  {
   "cell_type": "code",
   "execution_count": 5,
   "metadata": {},
   "outputs": [],
   "source": [
    "senti_dict = {}\n",
    "for each_line in open(r\"D:\\Users\\sagarv\\Desktop\\Inputfiles\\senti_dict (1).txt\"):\n",
    "    #print(each_line)\n",
    "    word,score = each_line.split('\\t')\n",
    "    senti_dict[word] = int(score)"
   ]
  },
  {
   "cell_type": "code",
   "execution_count": 6,
   "metadata": {},
   "outputs": [
    {
     "name": "stdout",
     "output_type": "stream",
     "text": [
      "rose is beautiful.\n",
      "This is a POSITIVE SENTIMENT\n",
      "\n",
      "place is nasty to stay.\n",
      "This is a NEGATIVE SENTIMENT\n",
      "\n",
      "this is the beauty of this technique.\n",
      "This is a POSITIVE SENTIMENT\n",
      "\n",
      "concept is explained beautifully in this book.\n",
      "This is a POSITIVE SENTIMENT\n",
      "\n",
      "he annoyed me.\n",
      "This is a NEGATIVE SENTIMENT\n",
      "\n",
      "its the supreme place to stay.\n",
      "This is a POSITIVE SENTIMENT\n",
      "\n",
      "i hate this place.\n",
      "This is a NEGATIVE SENTIMENT\n",
      "\n",
      "dont annoy the customer.\n",
      "This is a NEGATIVE SENTIMENT\n",
      "\n",
      "he has given nasty comments about his stay.\n",
      "This is a NEGATIVE SENTIMENT\n",
      "\n",
      "dessert is awesome.\n",
      "This is a POSITIVE SENTIMENT\n",
      "\n",
      "your gift is wonderful.\n",
      "This is a POSITIVE SENTIMENT\n",
      "\n"
     ]
    }
   ],
   "source": [
    "for word in text['Comment']:\n",
    "    words=word.lower().split()\n",
    "    print(' '.join(words))\n",
    "    senti=sum( senti_dict.get(word, 0) for word in words )\n",
    "    if senti > 0:\n",
    "        print(\"This is a POSITIVE SENTIMENT\\n\")\n",
    "    elif senti < 0:\n",
    "        print(\"This is a NEGATIVE SENTIMENT\\n\")\n",
    "    else:\n",
    "        print(\"This is a NEUTRAL SENTIMENT\\n\")"
   ]
  },
  {
   "cell_type": "code",
   "execution_count": null,
   "metadata": {},
   "outputs": [],
   "source": []
  }
 ],
 "metadata": {
  "kernelspec": {
   "display_name": "Python 3",
   "language": "python",
   "name": "python3"
  },
  "language_info": {
   "codemirror_mode": {
    "name": "ipython",
    "version": 3
   },
   "file_extension": ".py",
   "mimetype": "text/x-python",
   "name": "python",
   "nbconvert_exporter": "python",
   "pygments_lexer": "ipython3",
   "version": "3.7.3"
  }
 },
 "nbformat": 4,
 "nbformat_minor": 2
}
