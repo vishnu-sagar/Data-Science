{
 "cells": [
  {
   "cell_type": "code",
   "execution_count": null,
   "metadata": {},
   "outputs": [],
   "source": [
    "import nltk\n",
    "from nltk.corpus import stopwords\n",
    "from nltk import word_tokenize\n",
    "import pandas as pd\n",
    "import os\n",
    "from nltk.stem import PorterStemmer,WordNetLemmatizer"
   ]
  },
  {
   "cell_type": "code",
   "execution_count": 1,
   "metadata": {},
   "outputs": [],
   "source": [
    "def traverse(o, tree_types=(list, tuple)):\n",
    "    if isinstance(o, tree_types):\n",
    "        for value in o:\n",
    "            for subvalue in traverse(value, tree_types):\n",
    "                yield subvalue\n",
    "    else:\n",
    "        yield o"
   ]
  },
  {
   "cell_type": "code",
   "execution_count": 2,
   "metadata": {},
   "outputs": [],
   "source": [
    "import string\n",
    "\n",
    "punct=string.punctuation"
   ]
  },
  {
   "cell_type": "code",
   "execution_count": null,
   "metadata": {},
   "outputs": [],
   "source": [
    "dir=r\"C:\\\\Users\\\\vichu\\\\Documents\\assign\\Inputfiles\"\n",
    "text=pd.read_csv(os.path.join(dir,\"NLPdataEx3&4-data_in.txt\"),sep='\\t',names=['Comment'])\n",
    "print(text.info())\n",
    "\n",
    "\n",
    "word_token=[]\n",
    "for n in text['Comment']:\n",
    "    word_token.append(word_tokenize(n))\n",
    "    \n",
    "my_words=list(traverse(word_token))\n",
    "    \n",
    "words = [ word for word in my_words if word not in punct]\n",
    "\n",
    "words_clean = [w for w in words if not w in stopwords.words(\"english\")]\n",
    "    \n",
    "\n",
    "word_stem=[]\n",
    "ps=PorterStemmer()\n",
    "for w in words_clean:\n",
    "    word_stem.append(ps.stem(w))\n",
    "    \n",
    "    \n",
    "word_lemma=[]\n",
    "lm=WordNetLemmatizer()\n",
    "for x in words_clean:\n",
    "    word_lemma.append(lm.lemmatize(x))\n",
    "    \n",
    "    \n",
    "    \n",
    "fmt = '{:<8}{:<20}{}'\n",
    "\n",
    "print(\"COMPARING STEMMING AND LEMMATIZATION\")\n",
    "print(fmt.format('', 'STEMMING', 'LEMMATIZATION'))\n",
    "for i, (x, n) in enumerate(zip(word_stem, word_lemma)):\n",
    "    print(fmt.format(i, x, n))"
   ]
  }
 ],
 "metadata": {
  "kernelspec": {
   "display_name": "Python 3",
   "language": "python",
   "name": "python3"
  },
  "language_info": {
   "codemirror_mode": {
    "name": "ipython",
    "version": 3
   },
   "file_extension": ".py",
   "mimetype": "text/x-python",
   "name": "python",
   "nbconvert_exporter": "python",
   "pygments_lexer": "ipython3",
   "version": "3.7.3"
  }
 },
 "nbformat": 4,
 "nbformat_minor": 2
}
