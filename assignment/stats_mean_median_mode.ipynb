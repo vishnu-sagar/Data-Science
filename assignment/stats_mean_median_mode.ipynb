{
 "cells": [
  {
   "cell_type": "code",
   "execution_count": 1,
   "metadata": {},
   "outputs": [],
   "source": [
    "import pandas as pd\n",
    "import numpy as np\n",
    "import os\n",
    "from scipy.stats import mode"
   ]
  },
  {
   "cell_type": "code",
   "execution_count": 2,
   "metadata": {},
   "outputs": [],
   "source": [
    "#using numpy\n",
    "def cal(x):\n",
    "    mean= np.mean(x)\n",
    "    median = np.median(x)\n",
    "    m= mode(x)\n",
    "    variance=np.var(x)\n",
    "    stddev=np.std(x)\n",
    "    return mean,median,m,variance,stddev"
   ]
  },
  {
   "cell_type": "code",
   "execution_count": 4,
   "metadata": {},
   "outputs": [
    {
     "name": "stdout",
     "output_type": "stream",
     "text": [
      "<class 'pandas.core.frame.DataFrame'>\n",
      "Int64Index: 25 entries, 1 to 25\n",
      "Data columns (total 2 columns):\n",
      "YearsOfExp       25 non-null int64\n",
      "Salary in Rs.    25 non-null int64\n",
      "dtypes: int64(2)\n",
      "memory usage: 600.0 bytes\n",
      "None\n"
     ]
    }
   ],
   "source": [
    "dir=r\"D:\\Users\\sagarv\\Desktop\\Inputfiles\"\n",
    "stats=pd.read_excel(os.path.join(dir,\"Stats.xlsx\"),index_col=0)\n",
    "print(stats.info())"
   ]
  },
  {
   "cell_type": "code",
   "execution_count": 5,
   "metadata": {},
   "outputs": [
    {
     "name": "stdout",
     "output_type": "stream",
     "text": [
      "MEAN\n",
      " YearsOfExp           6.2\n",
      "Salary in Rs.    77821.2\n",
      "dtype: float64\n",
      "MEDIAN\n",
      " 6304.0\n",
      "MODE\n",
      " ModeResult(mode=array([[    10, 100639]], dtype=int64), count=array([[5, 2]]))\n",
      "VARIANCE\n",
      " YearsOfExp       9.680000e+00\n",
      "Salary in Rs.    1.524319e+09\n",
      "dtype: float64\n",
      "STDDEV\n",
      " YearsOfExp           3.111270\n",
      "Salary in Rs.    39042.529962\n",
      "dtype: float64\n"
     ]
    }
   ],
   "source": [
    "mean,median,Mode,Variance,Stddev=cal(stats)\n",
    "\n",
    "print('MEAN\\n',mean)\n",
    "print('MEDIAN\\n',median)\n",
    "print('MODE\\n',Mode)\n",
    "print('VARIANCE\\n',Variance)\n",
    "print('STDDEV\\n',Stddev)"
   ]
  },
  {
   "cell_type": "code",
   "execution_count": null,
   "metadata": {},
   "outputs": [],
   "source": []
  },
  {
   "cell_type": "code",
   "execution_count": null,
   "metadata": {},
   "outputs": [],
   "source": []
  }
 ],
 "metadata": {
  "kernelspec": {
   "display_name": "Python 3",
   "language": "python",
   "name": "python3"
  },
  "language_info": {
   "codemirror_mode": {
    "name": "ipython",
    "version": 3
   },
   "file_extension": ".py",
   "mimetype": "text/x-python",
   "name": "python",
   "nbconvert_exporter": "python",
   "pygments_lexer": "ipython3",
   "version": "3.7.3"
  }
 },
 "nbformat": 4,
 "nbformat_minor": 2
}
