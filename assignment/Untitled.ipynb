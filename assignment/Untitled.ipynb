{
 "cells": [
  {
   "cell_type": "code",
   "execution_count": 1,
   "metadata": {},
   "outputs": [],
   "source": [
    "import pandas as pd\n",
    "import os\n",
    "from nltk import sent_tokenize\n",
    "from nltk.chunk import ne_chunk\n",
    "from nltk.tag import pos_tag"
   ]
  },
  {
   "cell_type": "code",
   "execution_count": null,
   "metadata": {},
   "outputs": [],
   "source": [
    "dir=r\"C:\\\\Users\\\\vichu\\\\Documents\\assign\\Inputfiles\"\n",
    "text=pd.read_csv(os.path.join(dir,\"data_in.csv\"),error_bad_lines=False)\n",
    "print(text.info())"
   ]
  },
  {
   "cell_type": "code",
   "execution_count": 3,
   "metadata": {},
   "outputs": [],
   "source": [
    "def traverse(o, tree_types=(list, tuple)):\n",
    "    if isinstance(o, tree_types):\n",
    "        for value in o:\n",
    "            for subvalue in traverse(value, tree_types):\n",
    "                yield subvalue\n",
    "    else:\n",
    "        yield o"
   ]
  },
  {
   "cell_type": "code",
   "execution_count": null,
   "metadata": {},
   "outputs": [],
   "source": [
    "sent=[]\n",
    "for n in text['Comment']:\n",
    "    sent.append(sent_tokenize(n))\n",
    "    \n",
    "data_out=pd.DataFrame((list(traverse(sent))),columns=['token_Comment']) \n",
    "\n",
    "data_out.to_csv(os.path.join(dir,'data_out.csv'), index=False)\n",
    "\n",
    "chunk_sentence = ne_chunk(pos_tag(data_out['token_Comment']))\n",
    "\n",
    "chunk_sentence.draw()"
   ]
  }
 ],
 "metadata": {
  "kernelspec": {
   "display_name": "Python 3",
   "language": "python",
   "name": "python3"
  },
  "language_info": {
   "codemirror_mode": {
    "name": "ipython",
    "version": 3
   },
   "file_extension": ".py",
   "mimetype": "text/x-python",
   "name": "python",
   "nbconvert_exporter": "python",
   "pygments_lexer": "ipython3",
   "version": "3.7.3"
  }
 },
 "nbformat": 4,
 "nbformat_minor": 2
}
