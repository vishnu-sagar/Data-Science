{
 "cells": [
  {
   "cell_type": "code",
   "execution_count": 37,
   "metadata": {},
   "outputs": [
    {
     "data": {
      "text/html": [
       "<div>\n",
       "<style scoped>\n",
       "    .dataframe tbody tr th:only-of-type {\n",
       "        vertical-align: middle;\n",
       "    }\n",
       "\n",
       "    .dataframe tbody tr th {\n",
       "        vertical-align: top;\n",
       "    }\n",
       "\n",
       "    .dataframe thead th {\n",
       "        text-align: right;\n",
       "    }\n",
       "</style>\n",
       "<table border=\"1\" class=\"dataframe\">\n",
       "  <thead>\n",
       "    <tr style=\"text-align: right;\">\n",
       "      <th></th>\n",
       "      <th>loan_id</th>\n",
       "      <th>source</th>\n",
       "      <th>financial_institution</th>\n",
       "      <th>interest_rate</th>\n",
       "      <th>unpaid_principal_bal</th>\n",
       "      <th>loan_term</th>\n",
       "      <th>origination_date</th>\n",
       "      <th>first_payment_date</th>\n",
       "      <th>loan_to_value</th>\n",
       "      <th>number_of_borrowers</th>\n",
       "      <th>...</th>\n",
       "      <th>m4</th>\n",
       "      <th>m5</th>\n",
       "      <th>m6</th>\n",
       "      <th>m7</th>\n",
       "      <th>m8</th>\n",
       "      <th>m9</th>\n",
       "      <th>m10</th>\n",
       "      <th>m11</th>\n",
       "      <th>m12</th>\n",
       "      <th>m13</th>\n",
       "    </tr>\n",
       "  </thead>\n",
       "  <tbody>\n",
       "    <tr>\n",
       "      <th>0</th>\n",
       "      <td>268055008619</td>\n",
       "      <td>Z</td>\n",
       "      <td>Turner, Baldwin and Rhodes</td>\n",
       "      <td>4.250</td>\n",
       "      <td>214000</td>\n",
       "      <td>360</td>\n",
       "      <td>2012-03-01</td>\n",
       "      <td>05/2012</td>\n",
       "      <td>95</td>\n",
       "      <td>1.0</td>\n",
       "      <td>...</td>\n",
       "      <td>0</td>\n",
       "      <td>0</td>\n",
       "      <td>0</td>\n",
       "      <td>1</td>\n",
       "      <td>0</td>\n",
       "      <td>0</td>\n",
       "      <td>0</td>\n",
       "      <td>0</td>\n",
       "      <td>0</td>\n",
       "      <td>1</td>\n",
       "    </tr>\n",
       "    <tr>\n",
       "      <th>1</th>\n",
       "      <td>672831657627</td>\n",
       "      <td>Y</td>\n",
       "      <td>Swanson, Newton and Miller</td>\n",
       "      <td>4.875</td>\n",
       "      <td>144000</td>\n",
       "      <td>360</td>\n",
       "      <td>2012-01-01</td>\n",
       "      <td>03/2012</td>\n",
       "      <td>72</td>\n",
       "      <td>1.0</td>\n",
       "      <td>...</td>\n",
       "      <td>0</td>\n",
       "      <td>0</td>\n",
       "      <td>0</td>\n",
       "      <td>0</td>\n",
       "      <td>0</td>\n",
       "      <td>0</td>\n",
       "      <td>0</td>\n",
       "      <td>1</td>\n",
       "      <td>0</td>\n",
       "      <td>1</td>\n",
       "    </tr>\n",
       "    <tr>\n",
       "      <th>2</th>\n",
       "      <td>742515242108</td>\n",
       "      <td>Z</td>\n",
       "      <td>Thornton-Davis</td>\n",
       "      <td>3.250</td>\n",
       "      <td>366000</td>\n",
       "      <td>180</td>\n",
       "      <td>2012-01-01</td>\n",
       "      <td>03/2012</td>\n",
       "      <td>49</td>\n",
       "      <td>1.0</td>\n",
       "      <td>...</td>\n",
       "      <td>0</td>\n",
       "      <td>0</td>\n",
       "      <td>0</td>\n",
       "      <td>0</td>\n",
       "      <td>0</td>\n",
       "      <td>0</td>\n",
       "      <td>0</td>\n",
       "      <td>0</td>\n",
       "      <td>0</td>\n",
       "      <td>1</td>\n",
       "    </tr>\n",
       "    <tr>\n",
       "      <th>3</th>\n",
       "      <td>601385667462</td>\n",
       "      <td>X</td>\n",
       "      <td>OTHER</td>\n",
       "      <td>4.750</td>\n",
       "      <td>135000</td>\n",
       "      <td>360</td>\n",
       "      <td>2012-02-01</td>\n",
       "      <td>04/2012</td>\n",
       "      <td>46</td>\n",
       "      <td>2.0</td>\n",
       "      <td>...</td>\n",
       "      <td>0</td>\n",
       "      <td>0</td>\n",
       "      <td>0</td>\n",
       "      <td>0</td>\n",
       "      <td>0</td>\n",
       "      <td>1</td>\n",
       "      <td>1</td>\n",
       "      <td>1</td>\n",
       "      <td>1</td>\n",
       "      <td>1</td>\n",
       "    </tr>\n",
       "    <tr>\n",
       "      <th>4</th>\n",
       "      <td>273870029961</td>\n",
       "      <td>X</td>\n",
       "      <td>OTHER</td>\n",
       "      <td>4.750</td>\n",
       "      <td>124000</td>\n",
       "      <td>360</td>\n",
       "      <td>2012-02-01</td>\n",
       "      <td>04/2012</td>\n",
       "      <td>80</td>\n",
       "      <td>1.0</td>\n",
       "      <td>...</td>\n",
       "      <td>3</td>\n",
       "      <td>4</td>\n",
       "      <td>5</td>\n",
       "      <td>6</td>\n",
       "      <td>7</td>\n",
       "      <td>8</td>\n",
       "      <td>9</td>\n",
       "      <td>10</td>\n",
       "      <td>11</td>\n",
       "      <td>1</td>\n",
       "    </tr>\n",
       "  </tbody>\n",
       "</table>\n",
       "<p>5 rows × 29 columns</p>\n",
       "</div>"
      ],
      "text/plain": [
       "        loan_id source       financial_institution  interest_rate  \\\n",
       "0  268055008619      Z  Turner, Baldwin and Rhodes          4.250   \n",
       "1  672831657627      Y  Swanson, Newton and Miller          4.875   \n",
       "2  742515242108      Z              Thornton-Davis          3.250   \n",
       "3  601385667462      X                       OTHER          4.750   \n",
       "4  273870029961      X                       OTHER          4.750   \n",
       "\n",
       "   unpaid_principal_bal  loan_term origination_date first_payment_date  \\\n",
       "0                214000        360       2012-03-01            05/2012   \n",
       "1                144000        360       2012-01-01            03/2012   \n",
       "2                366000        180       2012-01-01            03/2012   \n",
       "3                135000        360       2012-02-01            04/2012   \n",
       "4                124000        360       2012-02-01            04/2012   \n",
       "\n",
       "   loan_to_value  number_of_borrowers  ...  m4  m5 m6  m7  m8  m9  m10  m11  \\\n",
       "0             95                  1.0  ...   0   0  0   1   0   0    0    0   \n",
       "1             72                  1.0  ...   0   0  0   0   0   0    0    1   \n",
       "2             49                  1.0  ...   0   0  0   0   0   0    0    0   \n",
       "3             46                  2.0  ...   0   0  0   0   0   1    1    1   \n",
       "4             80                  1.0  ...   3   4  5   6   7   8    9   10   \n",
       "\n",
       "   m12  m13  \n",
       "0    0    1  \n",
       "1    0    1  \n",
       "2    0    1  \n",
       "3    1    1  \n",
       "4   11    1  \n",
       "\n",
       "[5 rows x 29 columns]"
      ]
     },
     "execution_count": 37,
     "metadata": {},
     "output_type": "execute_result"
    }
   ],
   "source": [
    "import os\n",
    "import pandas as pd\n",
    "import matplotlib.pyplot as plt\n",
    "import seaborn as sns \n",
    "%matplotlib inline\n",
    "dir=r\"C:\\\\Users\\\\vichu\\\\Documents\\loan\"\n",
    "#os.chdir(r'C:\\Users\\prana\\Desktop')\n",
    "df = pd.read_csv(os.path.join(dir,\"train.csv\"))\n",
    "df_test = pd.read_csv(os.path.join(dir,\"test.csv\"))\n",
    "df.head()"
   ]
  },
  {
   "cell_type": "code",
   "execution_count": 38,
   "metadata": {},
   "outputs": [],
   "source": [
    "y=df.m13"
   ]
  },
  {
   "cell_type": "code",
   "execution_count": 39,
   "metadata": {},
   "outputs": [],
   "source": [
    "pd.options.display.max_seq_items = 4000"
   ]
  },
  {
   "cell_type": "code",
   "execution_count": 40,
   "metadata": {},
   "outputs": [],
   "source": [
    "df_test1 = pd.read_csv(os.path.join(dir,\"test.csv\"))"
   ]
  },
  {
   "cell_type": "code",
   "execution_count": 41,
   "metadata": {},
   "outputs": [],
   "source": [
    "def get_continuous_features(df):\n",
    "    return df.select_dtypes(include=['number']).columns\n",
    "\n",
    "def get_categorical_features(df):\n",
    "    return df.select_dtypes(exclude=['number']).columns\n",
    "\n",
    "def cast_cont_to_cat(df, features):\n",
    "    for feature in features:\n",
    "        df[feature] = df[feature].astype('category')"
   ]
  },
  {
   "cell_type": "code",
   "execution_count": 42,
   "metadata": {},
   "outputs": [
    {
     "name": "stdout",
     "output_type": "stream",
     "text": [
      "Index(['source', 'financial_institution', 'origination_date',\n",
      "       'first_payment_date', 'loan_purpose'],\n",
      "      dtype='object')\n",
      "Index(['loan_id', 'interest_rate', 'unpaid_principal_bal', 'loan_term',\n",
      "       'loan_to_value', 'number_of_borrowers', 'debt_to_income_ratio',\n",
      "       'borrower_credit_score', 'insurance_percent',\n",
      "       'co-borrower_credit_score', 'insurance_type', 'm1', 'm2', 'm3', 'm4',\n",
      "       'm5', 'm6', 'm7', 'm8', 'm9', 'm10', 'm11', 'm12', 'm13'],\n",
      "      dtype='object')\n"
     ]
    }
   ],
   "source": [
    "cat_features=get_categorical_features(df)\n",
    "cont_features=get_continuous_features(df)\n",
    "print(cat_features)\n",
    "print(cont_features)"
   ]
  },
  {
   "cell_type": "code",
   "execution_count": 43,
   "metadata": {},
   "outputs": [
    {
     "name": "stdout",
     "output_type": "stream",
     "text": [
      "['X' 'Y' 'Z']\n",
      "['Anderson-Taylor' 'Browning-Hart' 'Chapman-Mcmahon'\n",
      " 'Cole, Brooks and Vincent' 'Edwards-Hoffman' 'Martinez, Duffy and Bird'\n",
      " 'Miller, Mcclure and Allen' 'Nicholson Group' 'OTHER' 'Richards-Walters'\n",
      " 'Richardson Ltd' 'Romero, Woods and Johnson'\n",
      " 'Sanchez, Hays and Wilkerson' 'Sanchez-Robinson' 'Suarez Inc'\n",
      " 'Swanson, Newton and Miller' 'Taylor, Hunt and Rodriguez'\n",
      " 'Thornton-Davis' 'Turner, Baldwin and Rhodes']\n",
      "['2012-01-01' '2012-02-01' '2012-03-01']\n",
      "['02/2012' '03/2012' '04/2012' '05/2012']\n",
      "['A23' 'B12' 'C86']\n"
     ]
    }
   ],
   "source": [
    "from sklearn import preprocessing\n",
    "for col in df[cat_features]:\n",
    "    le_all=preprocessing.LabelEncoder()\n",
    "    le_all.fit(df[col])\n",
    "    print(le_all.classes_)\n",
    "    df[col]=le_all.transform(df[col])"
   ]
  },
  {
   "cell_type": "code",
   "execution_count": 44,
   "metadata": {},
   "outputs": [],
   "source": [
    "df_test=df_test.replace(['Apr-12','Feb-12','Mar-12','May-12'],['04/2012','02/2012','03/2012','05/2012'])\n",
    "\n",
    "df_test=df_test.replace(['01/01/12','01/02/12','01/03/12'],['2012-01-01','2012-02-01','2012-03-01'])"
   ]
  },
  {
   "cell_type": "code",
   "execution_count": 45,
   "metadata": {},
   "outputs": [
    {
     "name": "stdout",
     "output_type": "stream",
     "text": [
      "['X' 'Y' 'Z']\n",
      "['Anderson-Taylor' 'Browning-Hart' 'Chapman-Mcmahon'\n",
      " 'Cole, Brooks and Vincent' 'Edwards-Hoffman' 'Martinez, Duffy and Bird'\n",
      " 'Miller, Mcclure and Allen' 'Nicholson Group' 'OTHER' 'Richards-Walters'\n",
      " 'Richardson Ltd' 'Romero, Woods and Johnson'\n",
      " 'Sanchez, Hays and Wilkerson' 'Sanchez-Robinson' 'Suarez Inc'\n",
      " 'Swanson, Newton and Miller' 'Taylor, Hunt and Rodriguez'\n",
      " 'Thornton-Davis' 'Turner, Baldwin and Rhodes']\n",
      "['2012-01-01' '2012-02-01' '2012-03-01']\n",
      "['02/2012' '03/2012' '04/2012' '05/2012']\n",
      "['A23' 'B12' 'C86']\n"
     ]
    }
   ],
   "source": [
    "for col in df_test[cat_features]:\n",
    "    le_all=preprocessing.LabelEncoder()\n",
    "    le_all.fit(df_test[col])\n",
    "    print(le_all.classes_)\n",
    "    df_test[col]=le_all.transform(df_test[col])"
   ]
  },
  {
   "cell_type": "markdown",
   "metadata": {},
   "source": [
    "## FEATURE ENGG\n"
   ]
  },
  {
   "cell_type": "code",
   "execution_count": 46,
   "metadata": {},
   "outputs": [],
   "source": [
    "df_train=df"
   ]
  },
  {
   "cell_type": "code",
   "execution_count": 47,
   "metadata": {},
   "outputs": [],
   "source": [
    "df_train['emi']=df_train['unpaid_principal_bal']/df_train['loan_term']\n",
    "df_test['emi']=df_test['unpaid_principal_bal']/df_test['loan_term']"
   ]
  },
  {
   "cell_type": "code",
   "execution_count": 48,
   "metadata": {},
   "outputs": [],
   "source": [
    "df_train['credit_score']=df_train['borrower_credit_score']+df_train['co-borrower_credit_score']\n",
    "df_test['credit_score']=df_test['borrower_credit_score']+df_test['co-borrower_credit_score']"
   ]
  },
  {
   "cell_type": "code",
   "execution_count": 49,
   "metadata": {},
   "outputs": [],
   "source": [
    "df_train['total_amount']=df_train['unpaid_principal_bal']*(1+((df_train['interest_rate']/100)*(df_train['loan_term']/365)))\n",
    "df_test['total_amount']=df_test['unpaid_principal_bal']*(1+((df_test['interest_rate']/100)*(df_test['loan_term']/365)))"
   ]
  },
  {
   "cell_type": "code",
   "execution_count": 50,
   "metadata": {
    "scrolled": true
   },
   "outputs": [],
   "source": [
    "mean_credit = df_train['credit_score'].mean(skipna=True)"
   ]
  },
  {
   "cell_type": "code",
   "execution_count": 51,
   "metadata": {},
   "outputs": [],
   "source": [
    "df_train['credit_score']=df_train.credit_score.mask(df_train.credit_score == 0,mean_credit)\n",
    "df_test['credit_score']=df_train.credit_score.mask(df_train.credit_score == 0,mean_credit)"
   ]
  },
  {
   "cell_type": "code",
   "execution_count": 52,
   "metadata": {},
   "outputs": [
    {
     "data": {
      "text/plain": [
       "<matplotlib.axes._subplots.AxesSubplot at 0x1bd465a4710>"
      ]
     },
     "execution_count": 52,
     "metadata": {},
     "output_type": "execute_result"
    },
    {
     "data": {
      "image/png": "[encoded data removed]",
      "text/plain": [
       "<Figure size 432x288 with 1 Axes>"
      ]
     },
     "metadata": {
      "needs_background": "light"
     },
     "output_type": "display_data"
    }
   ],
   "source": [
    "import numpy as np\n",
    "df_train['emi_log'] = np.log(df_train['emi'])\n",
    "df_test['emi_log'] = np.log(df_test['emi'])\n",
    "df_train['emi_log'].hist(bins=25)"
   ]
  },
  {
   "cell_type": "code",
   "execution_count": 53,
   "metadata": {},
   "outputs": [
    {
     "data": {
      "text/plain": [
       "<matplotlib.axes._subplots.AxesSubplot at 0x1bd465a4780>"
      ]
     },
     "execution_count": 53,
     "metadata": {},
     "output_type": "execute_result"
    },
    {
     "data": {
      "image/png": "[encoded data removed]",
      "text/plain": [
       "<Figure size 432x288 with 1 Axes>"
      ]
     },
     "metadata": {
      "needs_background": "light"
     },
     "output_type": "display_data"
    }
   ],
   "source": [
    "df_train['credit_score_log'] = np.log(df_train['credit_score'])\n",
    "df_test['credit_score_log'] = np.log(df_test['credit_score'])\n",
    "df_test['credit_score'].hist(bins=25)"
   ]
  },
  {
   "cell_type": "code",
   "execution_count": 54,
   "metadata": {},
   "outputs": [
    {
     "data": {
      "text/plain": [
       "<matplotlib.axes._subplots.AxesSubplot at 0x1bd439fb748>"
      ]
     },
     "execution_count": 54,
     "metadata": {},
     "output_type": "execute_result"
    },
    {
     "data": {
      "image/png": "[encoded data removed]",
      "text/plain": [
       "<Figure size 432x288 with 1 Axes>"
      ]
     },
     "metadata": {
      "needs_background": "light"
     },
     "output_type": "display_data"
    }
   ],
   "source": [
    "df_train['total_amount_log'] = np.log(df_train['total_amount'])\n",
    "df_test['total_amount_log'] = np.log(df_test['total_amount'])\n",
    "df_train['total_amount_log'].hist(bins=25)"
   ]
  },
  {
   "cell_type": "code",
   "execution_count": 55,
   "metadata": {},
   "outputs": [
    {
     "data": {
      "text/plain": [
       "<matplotlib.axes._subplots.AxesSubplot at 0x1bd4435f780>"
      ]
     },
     "execution_count": 55,
     "metadata": {},
     "output_type": "execute_result"
    },
    {
     "data": {
      "image/png": "[encoded data removed]",
      "text/plain": [
       "<Figure size 432x288 with 1 Axes>"
      ]
     },
     "metadata": {
      "needs_background": "light"
     },
     "output_type": "display_data"
    }
   ],
   "source": [
    "df_train['loan_to_value_log'] = np.log(df_train['loan_to_value'])\n",
    "df_test['loan_to_value_log'] = np.log(df_test['loan_to_value'])\n",
    "df_train['loan_to_value_log'].hist(bins=25)"
   ]
  },
  {
   "cell_type": "code",
   "execution_count": 56,
   "metadata": {},
   "outputs": [
    {
     "data": {
      "text/html": [
       "<div>\n",
       "<style scoped>\n",
       "    .dataframe tbody tr th:only-of-type {\n",
       "        vertical-align: middle;\n",
       "    }\n",
       "\n",
       "    .dataframe tbody tr th {\n",
       "        vertical-align: top;\n",
       "    }\n",
       "\n",
       "    .dataframe thead th {\n",
       "        text-align: right;\n",
       "    }\n",
       "</style>\n",
       "<table border=\"1\" class=\"dataframe\">\n",
       "  <thead>\n",
       "    <tr style=\"text-align: right;\">\n",
       "      <th></th>\n",
       "      <th>loan_id</th>\n",
       "      <th>source</th>\n",
       "      <th>financial_institution</th>\n",
       "      <th>interest_rate</th>\n",
       "      <th>unpaid_principal_bal</th>\n",
       "      <th>loan_term</th>\n",
       "      <th>origination_date</th>\n",
       "      <th>first_payment_date</th>\n",
       "      <th>loan_to_value</th>\n",
       "      <th>number_of_borrowers</th>\n",
       "      <th>...</th>\n",
       "      <th>m11</th>\n",
       "      <th>m12</th>\n",
       "      <th>m13</th>\n",
       "      <th>emi</th>\n",
       "      <th>credit_score</th>\n",
       "      <th>total_amount</th>\n",
       "      <th>emi_log</th>\n",
       "      <th>credit_score_log</th>\n",
       "      <th>total_amount_log</th>\n",
       "      <th>loan_to_value_log</th>\n",
       "    </tr>\n",
       "  </thead>\n",
       "  <tbody>\n",
       "    <tr>\n",
       "      <th>0</th>\n",
       "      <td>268055008619</td>\n",
       "      <td>2</td>\n",
       "      <td>18</td>\n",
       "      <td>4.250</td>\n",
       "      <td>214000</td>\n",
       "      <td>360</td>\n",
       "      <td>2</td>\n",
       "      <td>3</td>\n",
       "      <td>95</td>\n",
       "      <td>1.0</td>\n",
       "      <td>...</td>\n",
       "      <td>0</td>\n",
       "      <td>0</td>\n",
       "      <td>1</td>\n",
       "      <td>594.444444</td>\n",
       "      <td>694.0</td>\n",
       "      <td>222970.410959</td>\n",
       "      <td>6.387627</td>\n",
       "      <td>6.542472</td>\n",
       "      <td>12.314794</td>\n",
       "      <td>4.553877</td>\n",
       "    </tr>\n",
       "    <tr>\n",
       "      <th>1</th>\n",
       "      <td>672831657627</td>\n",
       "      <td>1</td>\n",
       "      <td>15</td>\n",
       "      <td>4.875</td>\n",
       "      <td>144000</td>\n",
       "      <td>360</td>\n",
       "      <td>0</td>\n",
       "      <td>1</td>\n",
       "      <td>72</td>\n",
       "      <td>1.0</td>\n",
       "      <td>...</td>\n",
       "      <td>1</td>\n",
       "      <td>0</td>\n",
       "      <td>1</td>\n",
       "      <td>400.000000</td>\n",
       "      <td>697.0</td>\n",
       "      <td>150923.835616</td>\n",
       "      <td>5.991465</td>\n",
       "      <td>6.546785</td>\n",
       "      <td>11.924531</td>\n",
       "      <td>4.276666</td>\n",
       "    </tr>\n",
       "    <tr>\n",
       "      <th>2</th>\n",
       "      <td>742515242108</td>\n",
       "      <td>2</td>\n",
       "      <td>17</td>\n",
       "      <td>3.250</td>\n",
       "      <td>366000</td>\n",
       "      <td>180</td>\n",
       "      <td>0</td>\n",
       "      <td>1</td>\n",
       "      <td>49</td>\n",
       "      <td>1.0</td>\n",
       "      <td>...</td>\n",
       "      <td>0</td>\n",
       "      <td>0</td>\n",
       "      <td>1</td>\n",
       "      <td>2033.333333</td>\n",
       "      <td>780.0</td>\n",
       "      <td>371866.027397</td>\n",
       "      <td>7.617432</td>\n",
       "      <td>6.659294</td>\n",
       "      <td>12.826289</td>\n",
       "      <td>3.891820</td>\n",
       "    </tr>\n",
       "    <tr>\n",
       "      <th>3</th>\n",
       "      <td>601385667462</td>\n",
       "      <td>0</td>\n",
       "      <td>8</td>\n",
       "      <td>4.750</td>\n",
       "      <td>135000</td>\n",
       "      <td>360</td>\n",
       "      <td>1</td>\n",
       "      <td>2</td>\n",
       "      <td>46</td>\n",
       "      <td>2.0</td>\n",
       "      <td>...</td>\n",
       "      <td>1</td>\n",
       "      <td>1</td>\n",
       "      <td>1</td>\n",
       "      <td>375.000000</td>\n",
       "      <td>1271.0</td>\n",
       "      <td>141324.657534</td>\n",
       "      <td>5.926926</td>\n",
       "      <td>7.147559</td>\n",
       "      <td>11.858815</td>\n",
       "      <td>3.828641</td>\n",
       "    </tr>\n",
       "    <tr>\n",
       "      <th>4</th>\n",
       "      <td>273870029961</td>\n",
       "      <td>0</td>\n",
       "      <td>8</td>\n",
       "      <td>4.750</td>\n",
       "      <td>124000</td>\n",
       "      <td>360</td>\n",
       "      <td>1</td>\n",
       "      <td>2</td>\n",
       "      <td>80</td>\n",
       "      <td>1.0</td>\n",
       "      <td>...</td>\n",
       "      <td>10</td>\n",
       "      <td>11</td>\n",
       "      <td>1</td>\n",
       "      <td>344.444444</td>\n",
       "      <td>681.0</td>\n",
       "      <td>129809.315068</td>\n",
       "      <td>5.841933</td>\n",
       "      <td>6.523562</td>\n",
       "      <td>11.773822</td>\n",
       "      <td>4.382027</td>\n",
       "    </tr>\n",
       "  </tbody>\n",
       "</table>\n",
       "<p>5 rows × 36 columns</p>\n",
       "</div>"
      ],
      "text/plain": [
       "        loan_id  source  financial_institution  interest_rate  \\\n",
       "0  268055008619       2                     18          4.250   \n",
       "1  672831657627       1                     15          4.875   \n",
       "2  742515242108       2                     17          3.250   \n",
       "3  601385667462       0                      8          4.750   \n",
       "4  273870029961       0                      8          4.750   \n",
       "\n",
       "   unpaid_principal_bal  loan_term  origination_date  first_payment_date  \\\n",
       "0                214000        360                 2                   3   \n",
       "1                144000        360                 0                   1   \n",
       "2                366000        180                 0                   1   \n",
       "3                135000        360                 1                   2   \n",
       "4                124000        360                 1                   2   \n",
       "\n",
       "   loan_to_value  number_of_borrowers  ...  m11  m12  m13          emi  \\\n",
       "0             95                  1.0  ...    0    0    1   594.444444   \n",
       "1             72                  1.0  ...    1    0    1   400.000000   \n",
       "2             49                  1.0  ...    0    0    1  2033.333333   \n",
       "3             46                  2.0  ...    1    1    1   375.000000   \n",
       "4             80                  1.0  ...   10   11    1   344.444444   \n",
       "\n",
       "   credit_score   total_amount   emi_log  credit_score_log  total_amount_log  \\\n",
       "0         694.0  222970.410959  6.387627          6.542472         12.314794   \n",
       "1         697.0  150923.835616  5.991465          6.546785         11.924531   \n",
       "2         780.0  371866.027397  7.617432          6.659294         12.826289   \n",
       "3        1271.0  141324.657534  5.926926          7.147559         11.858815   \n",
       "4         681.0  129809.315068  5.841933          6.523562         11.773822   \n",
       "\n",
       "   loan_to_value_log  \n",
       "0           4.553877  \n",
       "1           4.276666  \n",
       "2           3.891820  \n",
       "3           3.828641  \n",
       "4           4.382027  \n",
       "\n",
       "[5 rows x 36 columns]"
      ]
     },
     "execution_count": 56,
     "metadata": {},
     "output_type": "execute_result"
    }
   ],
   "source": [
    "df_train.head()"
   ]
  },
  {
   "cell_type": "code",
   "execution_count": 68,
   "metadata": {},
   "outputs": [],
   "source": [
    "df_train=df_train.rename(columns={'number_of_borrowers_1.0':'number_of_borrowers_1','number_of_borrowers_2.0':'number_of_borrowers_2'})"
   ]
  },
  {
   "cell_type": "code",
   "execution_count": 58,
   "metadata": {},
   "outputs": [],
   "source": [
    "df_train=pd.get_dummies(df_train,columns=cat_features) \n",
    "df_test=pd.get_dummies(df_test,columns=cat_features)"
   ]
  },
  {
   "cell_type": "code",
   "execution_count": 59,
   "metadata": {},
   "outputs": [],
   "source": [
    "df_train=df_train.drop(['loan_id','borrower_credit_score','co-borrower_credit_score','credit_score','emi',\n",
    "                        'loan_to_value', 'unpaid_principal_bal','interest_rate','loan_term'], axis=1)\n",
    "#df_train=df_train.drop('Loan_ID',axis=1) \n",
    "df_test=df_test.drop(['loan_id','borrower_credit_score','co-borrower_credit_score','credit_score','emi',\n",
    "                        'loan_to_value', 'unpaid_principal_bal','interest_rate','loan_term'],axis=1)\n"
   ]
  },
  {
   "cell_type": "code",
   "execution_count": 60,
   "metadata": {},
   "outputs": [],
   "source": [
    "df_train=pd.get_dummies(df_train,columns=['number_of_borrowers']) \n",
    "df_test=pd.get_dummies(df_test,columns=['number_of_borrowers'])"
   ]
  },
  {
   "cell_type": "code",
   "execution_count": 61,
   "metadata": {},
   "outputs": [
    {
     "data": {
      "text/html": [
       "<div>\n",
       "<style scoped>\n",
       "    .dataframe tbody tr th:only-of-type {\n",
       "        vertical-align: middle;\n",
       "    }\n",
       "\n",
       "    .dataframe tbody tr th {\n",
       "        vertical-align: top;\n",
       "    }\n",
       "\n",
       "    .dataframe thead th {\n",
       "        text-align: right;\n",
       "    }\n",
       "</style>\n",
       "<table border=\"1\" class=\"dataframe\">\n",
       "  <thead>\n",
       "    <tr style=\"text-align: right;\">\n",
       "      <th></th>\n",
       "      <th>debt_to_income_ratio</th>\n",
       "      <th>insurance_percent</th>\n",
       "      <th>insurance_type</th>\n",
       "      <th>m1</th>\n",
       "      <th>m2</th>\n",
       "      <th>m3</th>\n",
       "      <th>m4</th>\n",
       "      <th>m5</th>\n",
       "      <th>m6</th>\n",
       "      <th>m7</th>\n",
       "      <th>...</th>\n",
       "      <th>origination_date_2</th>\n",
       "      <th>first_payment_date_0</th>\n",
       "      <th>first_payment_date_1</th>\n",
       "      <th>first_payment_date_2</th>\n",
       "      <th>first_payment_date_3</th>\n",
       "      <th>loan_purpose_0</th>\n",
       "      <th>loan_purpose_1</th>\n",
       "      <th>loan_purpose_2</th>\n",
       "      <th>number_of_borrowers_1</th>\n",
       "      <th>number_of_borrowers_2</th>\n",
       "    </tr>\n",
       "  </thead>\n",
       "  <tbody>\n",
       "    <tr>\n",
       "      <th>0</th>\n",
       "      <td>20</td>\n",
       "      <td>0</td>\n",
       "      <td>0</td>\n",
       "      <td>0</td>\n",
       "      <td>0</td>\n",
       "      <td>0</td>\n",
       "      <td>0</td>\n",
       "      <td>0</td>\n",
       "      <td>0</td>\n",
       "      <td>0</td>\n",
       "      <td>...</td>\n",
       "      <td>0</td>\n",
       "      <td>0</td>\n",
       "      <td>0</td>\n",
       "      <td>1</td>\n",
       "      <td>0</td>\n",
       "      <td>1</td>\n",
       "      <td>0</td>\n",
       "      <td>0</td>\n",
       "      <td>1</td>\n",
       "      <td>0</td>\n",
       "    </tr>\n",
       "    <tr>\n",
       "      <th>1</th>\n",
       "      <td>33</td>\n",
       "      <td>0</td>\n",
       "      <td>0</td>\n",
       "      <td>0</td>\n",
       "      <td>0</td>\n",
       "      <td>0</td>\n",
       "      <td>0</td>\n",
       "      <td>0</td>\n",
       "      <td>0</td>\n",
       "      <td>0</td>\n",
       "      <td>...</td>\n",
       "      <td>0</td>\n",
       "      <td>0</td>\n",
       "      <td>0</td>\n",
       "      <td>1</td>\n",
       "      <td>0</td>\n",
       "      <td>0</td>\n",
       "      <td>0</td>\n",
       "      <td>1</td>\n",
       "      <td>0</td>\n",
       "      <td>1</td>\n",
       "    </tr>\n",
       "    <tr>\n",
       "      <th>2</th>\n",
       "      <td>34</td>\n",
       "      <td>0</td>\n",
       "      <td>0</td>\n",
       "      <td>0</td>\n",
       "      <td>0</td>\n",
       "      <td>0</td>\n",
       "      <td>0</td>\n",
       "      <td>0</td>\n",
       "      <td>0</td>\n",
       "      <td>0</td>\n",
       "      <td>...</td>\n",
       "      <td>0</td>\n",
       "      <td>0</td>\n",
       "      <td>1</td>\n",
       "      <td>0</td>\n",
       "      <td>0</td>\n",
       "      <td>0</td>\n",
       "      <td>0</td>\n",
       "      <td>1</td>\n",
       "      <td>1</td>\n",
       "      <td>0</td>\n",
       "    </tr>\n",
       "    <tr>\n",
       "      <th>3</th>\n",
       "      <td>24</td>\n",
       "      <td>0</td>\n",
       "      <td>0</td>\n",
       "      <td>0</td>\n",
       "      <td>0</td>\n",
       "      <td>0</td>\n",
       "      <td>0</td>\n",
       "      <td>0</td>\n",
       "      <td>0</td>\n",
       "      <td>0</td>\n",
       "      <td>...</td>\n",
       "      <td>0</td>\n",
       "      <td>0</td>\n",
       "      <td>0</td>\n",
       "      <td>1</td>\n",
       "      <td>0</td>\n",
       "      <td>1</td>\n",
       "      <td>0</td>\n",
       "      <td>0</td>\n",
       "      <td>0</td>\n",
       "      <td>1</td>\n",
       "    </tr>\n",
       "    <tr>\n",
       "      <th>4</th>\n",
       "      <td>12</td>\n",
       "      <td>0</td>\n",
       "      <td>0</td>\n",
       "      <td>0</td>\n",
       "      <td>0</td>\n",
       "      <td>0</td>\n",
       "      <td>0</td>\n",
       "      <td>0</td>\n",
       "      <td>0</td>\n",
       "      <td>0</td>\n",
       "      <td>...</td>\n",
       "      <td>0</td>\n",
       "      <td>0</td>\n",
       "      <td>0</td>\n",
       "      <td>1</td>\n",
       "      <td>0</td>\n",
       "      <td>1</td>\n",
       "      <td>0</td>\n",
       "      <td>0</td>\n",
       "      <td>0</td>\n",
       "      <td>1</td>\n",
       "    </tr>\n",
       "  </tbody>\n",
       "</table>\n",
       "<p>5 rows × 54 columns</p>\n",
       "</div>"
      ],
      "text/plain": [
       "   debt_to_income_ratio  insurance_percent  insurance_type  m1  m2  m3  m4  \\\n",
       "0                    20                  0               0   0   0   0   0   \n",
       "1                    33                  0               0   0   0   0   0   \n",
       "2                    34                  0               0   0   0   0   0   \n",
       "3                    24                  0               0   0   0   0   0   \n",
       "4                    12                  0               0   0   0   0   0   \n",
       "\n",
       "   m5  m6  m7  ...  origination_date_2  first_payment_date_0  \\\n",
       "0   0   0   0  ...                   0                     0   \n",
       "1   0   0   0  ...                   0                     0   \n",
       "2   0   0   0  ...                   0                     0   \n",
       "3   0   0   0  ...                   0                     0   \n",
       "4   0   0   0  ...                   0                     0   \n",
       "\n",
       "   first_payment_date_1  first_payment_date_2  first_payment_date_3  \\\n",
       "0                     0                     1                     0   \n",
       "1                     0                     1                     0   \n",
       "2                     1                     0                     0   \n",
       "3                     0                     1                     0   \n",
       "4                     0                     1                     0   \n",
       "\n",
       "   loan_purpose_0  loan_purpose_1  loan_purpose_2  number_of_borrowers_1  \\\n",
       "0               1               0               0                      1   \n",
       "1               0               0               1                      0   \n",
       "2               0               0               1                      1   \n",
       "3               1               0               0                      0   \n",
       "4               1               0               0                      0   \n",
       "\n",
       "   number_of_borrowers_2  \n",
       "0                      0  \n",
       "1                      1  \n",
       "2                      0  \n",
       "3                      1  \n",
       "4                      1  \n",
       "\n",
       "[5 rows x 54 columns]"
      ]
     },
     "execution_count": 61,
     "metadata": {},
     "output_type": "execute_result"
    }
   ],
   "source": [
    "df_test.head()"
   ]
  },
  {
   "cell_type": "code",
   "execution_count": null,
   "metadata": {},
   "outputs": [
    {
     "name": "stdout",
     "output_type": "stream",
     "text": [
      "\n",
      "1 of kfold 5\n",
      "accuracy_score 0.9965105759703614\n",
      "matrix [[23078     7]\n",
      " [   74    54]]\n",
      "f1 0.5714285714285714\n",
      "pres 0.8852459016393442\n",
      "rec 0.421875\n",
      "\n",
      "2 of kfold 5\n",
      "accuracy_score 0.9957349646734448\n",
      "matrix [[23073    12]\n",
      " [   87    40]]\n",
      "f1 0.446927374301676\n",
      "pres 0.7692307692307693\n",
      "rec 0.31496062992125984\n",
      "\n",
      "3 of kfold 5\n"
     ]
    }
   ],
   "source": [
    "from sklearn import ensemble,tree\n",
    "from sklearn.model_selection import StratifiedKFold\n",
    "from sklearn.metrics import accuracy_score,confusion_matrix,f1_score,precision_score,recall_score\n",
    "import xgboost as xgb\n",
    "#features=['m7', 'm8', 'm9', 'm10', 'm11', 'm12']\n",
    "X = df_train.drop(columns=['m13','insurance_type','insurance_percent'])\n",
    "X.head()\n",
    "i=1 \n",
    "kf = StratifiedKFold(n_splits=5,random_state=1,shuffle=True) \n",
    "for train_index,test_index in kf.split(X,y):     \n",
    "    print('\\n{} of kfold {}'.format(i,kf.n_splits))    \n",
    "    xtr,xvl = X.loc[train_index],X.loc[test_index]     \n",
    "    ytr,yvl = y[train_index],y[test_index]         \n",
    "    model1=xgb.XGBClassifier(n_jobs=-1,random_state=42,learning_rate=0.01,n_estimators=1000)\n",
    "    model1.fit(X, y)     \n",
    "    pred_test1 = model1.predict(xvl)    \n",
    "    score = accuracy_score(yvl,pred_test1)\n",
    "    matrix=confusion_matrix(yvl,pred_test1)\n",
    "    f1=f1_score(yvl,pred_test1)\n",
    "    p=precision_score(yvl,pred_test1)\n",
    "    r=recall_score(yvl,pred_test1)\n",
    "    print('accuracy_score',score)\n",
    "    print('matrix',matrix)\n",
    "    print('f1',f1)\n",
    "    print('pres',p)\n",
    "    print('rec',r)\n",
    "    i+=1"
   ]
  },
  {
   "cell_type": "code",
   "execution_count": 73,
   "metadata": {},
   "outputs": [],
   "source": [
    "#df_test=df_test.drop(columns=['insurance_type','insurance_percent'])\n",
    "pred_test1 = model1.predict(df_test)"
   ]
  },
  {
   "cell_type": "code",
   "execution_count": 74,
   "metadata": {},
   "outputs": [
    {
     "data": {
      "text/plain": [
       "array([35789,    77], dtype=int64)"
      ]
     },
     "execution_count": 74,
     "metadata": {},
     "output_type": "execute_result"
    }
   ],
   "source": [
    "np.bincount(pred_test1)"
   ]
  },
  {
   "cell_type": "code",
   "execution_count": 91,
   "metadata": {},
   "outputs": [],
   "source": [
    "df_test1['m13']=pred_test1\n",
    "df_test1.to_csv(os.path.join(dir,'submission.csv'), columns=['loan_id','m13'], index=False)"
   ]
  },
  {
   "cell_type": "code",
   "execution_count": 107,
   "metadata": {
    "scrolled": true
   },
   "outputs": [],
   "source": [
    "df_train['m10']=df_train['m10'].replace(8,7)"
   ]
  },
  {
   "cell_type": "code",
   "execution_count": 108,
   "metadata": {},
   "outputs": [
    {
     "data": {
      "text/plain": [
       "0    115613\n",
       "1       325\n",
       "2        54\n",
       "3        21\n",
       "7        16\n",
       "4        15\n",
       "6         8\n",
       "5         6\n",
       "Name: m10, dtype: int64"
      ]
     },
     "execution_count": 108,
     "metadata": {},
     "output_type": "execute_result"
    }
   ],
   "source": [
    "df_train['m10'].value_counts()"
   ]
  },
  {
   "cell_type": "code",
   "execution_count": 94,
   "metadata": {},
   "outputs": [
    {
     "data": {
      "text/plain": [
       "0    35738\n",
       "1      101\n",
       "2        9\n",
       "3        7\n",
       "6        3\n",
       "5        3\n",
       "4        3\n",
       "7        2\n",
       "Name: m10, dtype: int64"
      ]
     },
     "execution_count": 94,
     "metadata": {},
     "output_type": "execute_result"
    }
   ],
   "source": [
    "df_test['m10'].value_counts()"
   ]
  },
  {
   "cell_type": "code",
   "execution_count": 154,
   "metadata": {},
   "outputs": [
    {
     "data": {
      "text/plain": [
       "<matplotlib.axes._subplots.AxesSubplot at 0x203cd4e7588>"
      ]
     },
     "execution_count": 154,
     "metadata": {},
     "output_type": "execute_result"
    },
    {
     "data": {
      "image/png": "[encoded data removed]",
      "text/plain": [
       "<Figure size 864x576 with 1 Axes>"
      ]
     },
     "metadata": {
      "needs_background": "light"
     },
     "output_type": "display_data"
    }
   ],
   "source": [
    "importances=pd.Series(model1.feature_importances_, index=X.columns) \n",
    "importances.plot(kind='barh', figsize=(12,8))"
   ]
  },
  {
   "cell_type": "code",
   "execution_count": 131,
   "metadata": {},
   "outputs": [],
   "source": [
    "from catboost import CatBoostClassifier"
   ]
  },
  {
   "cell_type": "code",
   "execution_count": 140,
   "metadata": {},
   "outputs": [],
   "source": [
    "m=CatBoostClassifier(n_estimators=1000,random_state=10,eval_metric='F1',learning_rate=0.1,\n",
    "                     max_depth=6,od_wait=50,l2_leaf_reg=5,random_strength=100,use_best_model=True)"
   ]
  },
  {
   "cell_type": "code",
   "execution_count": 141,
   "metadata": {},
   "outputs": [],
   "source": [
    "from sklearn.model_selection import train_test_split\n",
    "X_train, X_test, y_train, y_test=train_test_split(X, y, test_size=0.25, random_state=2)"
   ]
  },
  {
   "cell_type": "code",
   "execution_count": 142,
   "metadata": {},
   "outputs": [
    {
     "name": "stdout",
     "output_type": "stream",
     "text": [
      "0:\tlearn: 0.0000000\ttest: 0.0000000\ttest1: 0.0000000\tbest: 0.0000000 (0)\ttotal: 28.1ms\tremaining: 28s\n",
      "100:\tlearn: 0.0000000\ttest: 0.0000000\ttest1: 0.0000000\tbest: 0.0000000 (0)\ttotal: 3.37s\tremaining: 30s\n",
      "Stopped by overfitting detector  (100 iterations wait)\n",
      "\n",
      "bestTest = 0\n",
      "bestIteration = 0\n",
      "\n",
      "Shrink model to first 1 iterations.\n"
     ]
    },
    {
     "data": {
      "text/plain": [
       "<catboost.core.CatBoostClassifier at 0x203d09d6a90>"
      ]
     },
     "execution_count": 142,
     "metadata": {},
     "output_type": "execute_result"
    }
   ],
   "source": [
    "m.fit(X_train,y_train,eval_set=[(X,y),(X_test, y_test)], early_stopping_rounds=100,verbose=100)"
   ]
  },
  {
   "cell_type": "code",
   "execution_count": null,
   "metadata": {},
   "outputs": [],
   "source": []
  }
 ],
 "metadata": {
  "kernelspec": {
   "display_name": "Python 3",
   "language": "python",
   "name": "python3"
  },
  "language_info": {
   "codemirror_mode": {
    "name": "ipython",
    "version": 3
   },
   "file_extension": ".py",
   "mimetype": "text/x-python",
   "name": "python",
   "nbconvert_exporter": "python",
   "pygments_lexer": "ipython3",
   "version": "3.7.3"
  }
 },
 "nbformat": 4,
 "nbformat_minor": 2
}
