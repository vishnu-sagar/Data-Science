{
 "cells": [
  {
   "cell_type": "code",
   "execution_count": 345,
   "metadata": {},
   "outputs": [],
   "source": [
    "import os\n",
    "import pandas as pd\n",
    "import matplotlib.pyplot as plt\n",
    "import seaborn as sns \n",
    "%matplotlib inline\n",
    "import numpy as np"
   ]
  },
  {
   "cell_type": "code",
   "execution_count": 346,
   "metadata": {},
   "outputs": [],
   "source": [
    "dir=r\"C:\\\\Users\\\\vichu\\\\Documents\\unifynd\"\n",
    "df = pd.read_csv(os.path.join(dir,\"churn.csv\"))"
   ]
  },
  {
   "cell_type": "code",
   "execution_count": 347,
   "metadata": {},
   "outputs": [
    {
     "data": {
      "text/plain": [
       "Index(['Unnamed: 0', 'State', 'Account Length', 'Area Code', 'Phone',\n",
       "       'Intl Plan', 'VMail Plan', 'VMail Message', 'Day Mins', 'Day Calls',\n",
       "       'Day Charge', 'Eve Mins', 'Eve Calls', 'Eve Charge', 'Night Mins',\n",
       "       'Night Calls', 'Night Charge', 'Intl Mins', 'Intl Calls', 'Intl Charge',\n",
       "       'CustServ Calls', 'Churn?'],\n",
       "      dtype='object')"
      ]
     },
     "execution_count": 347,
     "metadata": {},
     "output_type": "execute_result"
    }
   ],
   "source": [
    "df.columns"
   ]
  },
  {
   "cell_type": "code",
   "execution_count": 348,
   "metadata": {},
   "outputs": [],
   "source": [
    "df=df.rename(str.lower, axis='columns')"
   ]
  },
  {
   "cell_type": "code",
   "execution_count": 349,
   "metadata": {},
   "outputs": [
    {
     "data": {
      "text/plain": [
       "Index(['unnamed: 0', 'state', 'account length', 'area code', 'phone',\n",
       "       'intl plan', 'vmail plan', 'vmail message', 'day mins', 'day calls',\n",
       "       'day charge', 'eve mins', 'eve calls', 'eve charge', 'night mins',\n",
       "       'night calls', 'night charge', 'intl mins', 'intl calls', 'intl charge',\n",
       "       'custserv calls', 'churn?'],\n",
       "      dtype='object')"
      ]
     },
     "execution_count": 349,
     "metadata": {},
     "output_type": "execute_result"
    }
   ],
   "source": [
    "df.columns"
   ]
  },
  {
   "cell_type": "code",
   "execution_count": 350,
   "metadata": {},
   "outputs": [],
   "source": [
    "df=df.rename(columns={'unnamed: 0':'index','churn?':'churn'})"
   ]
  },
  {
   "cell_type": "code",
   "execution_count": 351,
   "metadata": {},
   "outputs": [],
   "source": [
    "df=df.replace('?',np.NAN)"
   ]
  },
  {
   "cell_type": "code",
   "execution_count": 352,
   "metadata": {},
   "outputs": [
    {
     "data": {
      "text/html": [
       "<div>\n",
       "<style scoped>\n",
       "    .dataframe tbody tr th:only-of-type {\n",
       "        vertical-align: middle;\n",
       "    }\n",
       "\n",
       "    .dataframe tbody tr th {\n",
       "        vertical-align: top;\n",
       "    }\n",
       "\n",
       "    .dataframe thead th {\n",
       "        text-align: right;\n",
       "    }\n",
       "</style>\n",
       "<table border=\"1\" class=\"dataframe\">\n",
       "  <thead>\n",
       "    <tr style=\"text-align: right;\">\n",
       "      <th></th>\n",
       "      <th>index</th>\n",
       "      <th>state</th>\n",
       "      <th>account length</th>\n",
       "      <th>area code</th>\n",
       "      <th>phone</th>\n",
       "      <th>intl plan</th>\n",
       "      <th>vmail plan</th>\n",
       "      <th>vmail message</th>\n",
       "      <th>day mins</th>\n",
       "      <th>day calls</th>\n",
       "      <th>...</th>\n",
       "      <th>eve calls</th>\n",
       "      <th>eve charge</th>\n",
       "      <th>night mins</th>\n",
       "      <th>night calls</th>\n",
       "      <th>night charge</th>\n",
       "      <th>intl mins</th>\n",
       "      <th>intl calls</th>\n",
       "      <th>intl charge</th>\n",
       "      <th>custserv calls</th>\n",
       "      <th>churn</th>\n",
       "    </tr>\n",
       "  </thead>\n",
       "  <tbody>\n",
       "    <tr>\n",
       "      <th>0</th>\n",
       "      <td>0</td>\n",
       "      <td>KS</td>\n",
       "      <td>128</td>\n",
       "      <td>415</td>\n",
       "      <td>382-4657</td>\n",
       "      <td>no</td>\n",
       "      <td>yes</td>\n",
       "      <td>25</td>\n",
       "      <td>265.1</td>\n",
       "      <td>110</td>\n",
       "      <td>...</td>\n",
       "      <td>99</td>\n",
       "      <td>16.78</td>\n",
       "      <td>244.7</td>\n",
       "      <td>91</td>\n",
       "      <td>11.01</td>\n",
       "      <td>10.0</td>\n",
       "      <td>3</td>\n",
       "      <td>2.7</td>\n",
       "      <td>1</td>\n",
       "      <td>False.</td>\n",
       "    </tr>\n",
       "    <tr>\n",
       "      <th>1</th>\n",
       "      <td>1</td>\n",
       "      <td>OH</td>\n",
       "      <td>107</td>\n",
       "      <td>415</td>\n",
       "      <td>371-7191</td>\n",
       "      <td>no</td>\n",
       "      <td>yes</td>\n",
       "      <td>26</td>\n",
       "      <td>161.6</td>\n",
       "      <td>123</td>\n",
       "      <td>...</td>\n",
       "      <td>103</td>\n",
       "      <td>16.62</td>\n",
       "      <td>254.4</td>\n",
       "      <td>103</td>\n",
       "      <td>11.45</td>\n",
       "      <td>13.7</td>\n",
       "      <td>3</td>\n",
       "      <td>3.7</td>\n",
       "      <td>1</td>\n",
       "      <td>False.</td>\n",
       "    </tr>\n",
       "    <tr>\n",
       "      <th>2</th>\n",
       "      <td>2</td>\n",
       "      <td>NJ</td>\n",
       "      <td>137</td>\n",
       "      <td>415</td>\n",
       "      <td>358-1921</td>\n",
       "      <td>no</td>\n",
       "      <td>no</td>\n",
       "      <td>0</td>\n",
       "      <td>243.4</td>\n",
       "      <td>114</td>\n",
       "      <td>...</td>\n",
       "      <td>110</td>\n",
       "      <td>10.30</td>\n",
       "      <td>162.6</td>\n",
       "      <td>104</td>\n",
       "      <td>7.32</td>\n",
       "      <td>12.2</td>\n",
       "      <td>5</td>\n",
       "      <td>3.29</td>\n",
       "      <td>0</td>\n",
       "      <td>False.</td>\n",
       "    </tr>\n",
       "    <tr>\n",
       "      <th>3</th>\n",
       "      <td>3</td>\n",
       "      <td>OH</td>\n",
       "      <td>84</td>\n",
       "      <td>408</td>\n",
       "      <td>375-9999</td>\n",
       "      <td>yes</td>\n",
       "      <td>no</td>\n",
       "      <td>0</td>\n",
       "      <td>299.4</td>\n",
       "      <td>71</td>\n",
       "      <td>...</td>\n",
       "      <td>88</td>\n",
       "      <td>5.26</td>\n",
       "      <td>196.9</td>\n",
       "      <td>89</td>\n",
       "      <td>8.86</td>\n",
       "      <td>6.6</td>\n",
       "      <td>7</td>\n",
       "      <td>1.78</td>\n",
       "      <td>2</td>\n",
       "      <td>False.</td>\n",
       "    </tr>\n",
       "    <tr>\n",
       "      <th>4</th>\n",
       "      <td>4</td>\n",
       "      <td>OK</td>\n",
       "      <td>75</td>\n",
       "      <td>415</td>\n",
       "      <td>330-6626</td>\n",
       "      <td>yes</td>\n",
       "      <td>no</td>\n",
       "      <td>0</td>\n",
       "      <td>166.7</td>\n",
       "      <td>113</td>\n",
       "      <td>...</td>\n",
       "      <td>122</td>\n",
       "      <td>12.61</td>\n",
       "      <td>186.9</td>\n",
       "      <td>121</td>\n",
       "      <td>8.41</td>\n",
       "      <td>10.1</td>\n",
       "      <td>3</td>\n",
       "      <td>2.73</td>\n",
       "      <td>3</td>\n",
       "      <td>False.</td>\n",
       "    </tr>\n",
       "    <tr>\n",
       "      <th>5</th>\n",
       "      <td>5</td>\n",
       "      <td>AL</td>\n",
       "      <td>118</td>\n",
       "      <td>510</td>\n",
       "      <td>391-8027</td>\n",
       "      <td>yes</td>\n",
       "      <td>no</td>\n",
       "      <td>0</td>\n",
       "      <td>223.4</td>\n",
       "      <td>98</td>\n",
       "      <td>...</td>\n",
       "      <td>101</td>\n",
       "      <td>18.75</td>\n",
       "      <td>203.9</td>\n",
       "      <td>118</td>\n",
       "      <td>9.18</td>\n",
       "      <td>6.3</td>\n",
       "      <td>6</td>\n",
       "      <td>1.7</td>\n",
       "      <td>0</td>\n",
       "      <td>False.</td>\n",
       "    </tr>\n",
       "    <tr>\n",
       "      <th>6</th>\n",
       "      <td>6</td>\n",
       "      <td>MA</td>\n",
       "      <td>121</td>\n",
       "      <td>510</td>\n",
       "      <td>355-9993</td>\n",
       "      <td>no</td>\n",
       "      <td>yes</td>\n",
       "      <td>24</td>\n",
       "      <td>218.2</td>\n",
       "      <td>88</td>\n",
       "      <td>...</td>\n",
       "      <td>108</td>\n",
       "      <td>29.62</td>\n",
       "      <td>212.6</td>\n",
       "      <td>118</td>\n",
       "      <td>9.57</td>\n",
       "      <td>7.5</td>\n",
       "      <td>7</td>\n",
       "      <td>2.03</td>\n",
       "      <td>3</td>\n",
       "      <td>False.</td>\n",
       "    </tr>\n",
       "    <tr>\n",
       "      <th>7</th>\n",
       "      <td>7</td>\n",
       "      <td>MO</td>\n",
       "      <td>147</td>\n",
       "      <td>415</td>\n",
       "      <td>329-9001</td>\n",
       "      <td>yes</td>\n",
       "      <td>no</td>\n",
       "      <td>0</td>\n",
       "      <td>157.0</td>\n",
       "      <td>79</td>\n",
       "      <td>...</td>\n",
       "      <td>94</td>\n",
       "      <td>8.76</td>\n",
       "      <td>211.8</td>\n",
       "      <td>96</td>\n",
       "      <td>9.53</td>\n",
       "      <td>7.1</td>\n",
       "      <td>NaN</td>\n",
       "      <td>1.92</td>\n",
       "      <td>0</td>\n",
       "      <td>False.</td>\n",
       "    </tr>\n",
       "    <tr>\n",
       "      <th>8</th>\n",
       "      <td>8</td>\n",
       "      <td>LA</td>\n",
       "      <td>117</td>\n",
       "      <td>408</td>\n",
       "      <td>335-4719</td>\n",
       "      <td>no</td>\n",
       "      <td>no</td>\n",
       "      <td>0</td>\n",
       "      <td>184.5</td>\n",
       "      <td>97</td>\n",
       "      <td>...</td>\n",
       "      <td>80</td>\n",
       "      <td>29.89</td>\n",
       "      <td>215.8</td>\n",
       "      <td>90</td>\n",
       "      <td>9.71</td>\n",
       "      <td>8.7</td>\n",
       "      <td>4</td>\n",
       "      <td>NaN</td>\n",
       "      <td>1</td>\n",
       "      <td>False.</td>\n",
       "    </tr>\n",
       "    <tr>\n",
       "      <th>9</th>\n",
       "      <td>9</td>\n",
       "      <td>WV</td>\n",
       "      <td>141</td>\n",
       "      <td>415</td>\n",
       "      <td>330-8173</td>\n",
       "      <td>yes</td>\n",
       "      <td>yes</td>\n",
       "      <td>37</td>\n",
       "      <td>258.6</td>\n",
       "      <td>84</td>\n",
       "      <td>...</td>\n",
       "      <td>111</td>\n",
       "      <td>18.87</td>\n",
       "      <td>326.4</td>\n",
       "      <td>97</td>\n",
       "      <td>14.69</td>\n",
       "      <td>11.2</td>\n",
       "      <td>5</td>\n",
       "      <td>3.02</td>\n",
       "      <td>0</td>\n",
       "      <td>False.</td>\n",
       "    </tr>\n",
       "  </tbody>\n",
       "</table>\n",
       "<p>10 rows × 22 columns</p>\n",
       "</div>"
      ],
      "text/plain": [
       "   index state  account length area code     phone intl plan vmail plan  \\\n",
       "0      0    KS             128       415  382-4657        no        yes   \n",
       "1      1    OH             107       415  371-7191        no        yes   \n",
       "2      2    NJ             137       415  358-1921        no         no   \n",
       "3      3    OH              84       408  375-9999       yes         no   \n",
       "4      4    OK              75       415  330-6626       yes         no   \n",
       "5      5    AL             118       510  391-8027       yes         no   \n",
       "6      6    MA             121       510  355-9993        no        yes   \n",
       "7      7    MO             147       415  329-9001       yes         no   \n",
       "8      8    LA             117       408  335-4719        no         no   \n",
       "9      9    WV             141       415  330-8173       yes        yes   \n",
       "\n",
       "   vmail message  day mins  day calls  ... eve calls eve charge night mins  \\\n",
       "0             25     265.1        110  ...        99      16.78      244.7   \n",
       "1             26     161.6        123  ...       103      16.62      254.4   \n",
       "2              0     243.4        114  ...       110      10.30      162.6   \n",
       "3              0     299.4         71  ...        88       5.26      196.9   \n",
       "4              0     166.7        113  ...       122      12.61      186.9   \n",
       "5              0     223.4         98  ...       101      18.75      203.9   \n",
       "6             24     218.2         88  ...       108      29.62      212.6   \n",
       "7              0     157.0         79  ...        94       8.76      211.8   \n",
       "8              0     184.5         97  ...        80      29.89      215.8   \n",
       "9             37     258.6         84  ...       111      18.87      326.4   \n",
       "\n",
       "   night calls  night charge  intl mins intl calls  intl charge  \\\n",
       "0           91         11.01       10.0          3          2.7   \n",
       "1          103         11.45       13.7          3          3.7   \n",
       "2          104          7.32       12.2          5         3.29   \n",
       "3           89          8.86        6.6          7         1.78   \n",
       "4          121          8.41       10.1          3         2.73   \n",
       "5          118          9.18        6.3          6          1.7   \n",
       "6          118          9.57        7.5          7         2.03   \n",
       "7           96          9.53        7.1        NaN         1.92   \n",
       "8           90          9.71        8.7          4          NaN   \n",
       "9           97         14.69       11.2          5         3.02   \n",
       "\n",
       "  custserv calls   churn  \n",
       "0              1  False.  \n",
       "1              1  False.  \n",
       "2              0  False.  \n",
       "3              2  False.  \n",
       "4              3  False.  \n",
       "5              0  False.  \n",
       "6              3  False.  \n",
       "7              0  False.  \n",
       "8              1  False.  \n",
       "9              0  False.  \n",
       "\n",
       "[10 rows x 22 columns]"
      ]
     },
     "execution_count": 352,
     "metadata": {},
     "output_type": "execute_result"
    }
   ],
   "source": [
    "df.head(10)"
   ]
  },
  {
   "cell_type": "code",
   "execution_count": 356,
   "metadata": {},
   "outputs": [],
   "source": [
    "cast_cont_to_cat(df,['custserv calls'])"
   ]
  },
  {
   "cell_type": "code",
   "execution_count": 357,
   "metadata": {},
   "outputs": [],
   "source": [
    "def get_continuous_features(df):\n",
    "    return df.select_dtypes(include=['number']).columns\n",
    "\n",
    "def get_categorical_features(df):\n",
    "    return df.select_dtypes(exclude=['number']).columns\n",
    "\n",
    "def cast_cont_to_cat(df, features):\n",
    "    for feature in features:\n",
    "        df[feature] = df[feature].astype('category')"
   ]
  },
  {
   "cell_type": "code",
   "execution_count": 358,
   "metadata": {},
   "outputs": [
    {
     "name": "stdout",
     "output_type": "stream",
     "text": [
      "Index(['state', 'area code', 'phone', 'intl plan', 'vmail plan', 'day charge',\n",
      "       'eve mins', 'eve calls', 'night charge', 'intl calls', 'intl charge',\n",
      "       'custserv calls', 'churn'],\n",
      "      dtype='object')\n",
      "Index(['index', 'account length', 'vmail message', 'day mins', 'day calls',\n",
      "       'eve charge', 'night mins', 'night calls', 'intl mins'],\n",
      "      dtype='object')\n"
     ]
    }
   ],
   "source": [
    "cat_features=get_categorical_features(df)\n",
    "cont_features=get_continuous_features(df)\n",
    "print(cat_features)\n",
    "print(cont_features)"
   ]
  },
  {
   "cell_type": "code",
   "execution_count": 359,
   "metadata": {},
   "outputs": [
    {
     "name": "stdout",
     "output_type": "stream",
     "text": [
      "<class 'pandas.core.frame.DataFrame'>\n",
      "RangeIndex: 3333 entries, 0 to 3332\n",
      "Data columns (total 22 columns):\n",
      "index             3333 non-null int64\n",
      "state             3333 non-null object\n",
      "account length    3333 non-null int64\n",
      "area code         3160 non-null object\n",
      "phone             3333 non-null object\n",
      "intl plan         2805 non-null object\n",
      "vmail plan        2984 non-null object\n",
      "vmail message     3333 non-null int64\n",
      "day mins          3333 non-null float64\n",
      "day calls         3333 non-null int64\n",
      "day charge        3221 non-null object\n",
      "eve mins          3245 non-null object\n",
      "eve calls         2813 non-null object\n",
      "eve charge        3333 non-null float64\n",
      "night mins        3333 non-null float64\n",
      "night calls       3333 non-null int64\n",
      "night charge      3023 non-null object\n",
      "intl mins         3333 non-null float64\n",
      "intl calls        2671 non-null object\n",
      "intl charge       2981 non-null object\n",
      "custserv calls    3333 non-null category\n",
      "churn             3333 non-null object\n",
      "dtypes: category(1), float64(4), int64(5), object(12)\n",
      "memory usage: 550.5+ KB\n"
     ]
    }
   ],
   "source": [
    "df.info()"
   ]
  },
  {
   "cell_type": "code",
   "execution_count": 360,
   "metadata": {},
   "outputs": [
    {
     "name": "stdout",
     "output_type": "stream",
     "text": [
      "<class 'pandas.core.indexes.base.Index'>\n"
     ]
    }
   ],
   "source": [
    "print(type(cat_features))"
   ]
  },
  {
   "cell_type": "code",
   "execution_count": 361,
   "metadata": {},
   "outputs": [],
   "source": [
    "cat_features=cat_features.drop(['day charge','eve mins', 'eve calls', 'night charge', 'intl calls', 'intl charge'])"
   ]
  },
  {
   "cell_type": "code",
   "execution_count": 362,
   "metadata": {},
   "outputs": [
    {
     "name": "stdout",
     "output_type": "stream",
     "text": [
      "Index(['state', 'area code', 'phone', 'intl plan', 'vmail plan',\n",
      "       'custserv calls', 'churn'],\n",
      "      dtype='object')\n"
     ]
    }
   ],
   "source": [
    "print(cat_features)"
   ]
  },
  {
   "cell_type": "code",
   "execution_count": 363,
   "metadata": {},
   "outputs": [
    {
     "name": "stdout",
     "output_type": "stream",
     "text": [
      "Index(['index', 'account length', 'vmail message', 'day mins', 'day calls',\n",
      "       'eve charge', 'night mins', 'night calls', 'intl mins'],\n",
      "      dtype='object')\n"
     ]
    }
   ],
   "source": [
    "print(cont_features)"
   ]
  },
  {
   "cell_type": "code",
   "execution_count": 364,
   "metadata": {},
   "outputs": [],
   "source": [
    "cast_cont_to_cat(df,['custserv calls'])"
   ]
  },
  {
   "cell_type": "code",
   "execution_count": 365,
   "metadata": {},
   "outputs": [
    {
     "data": {
      "text/plain": [
       "Index(['index', 'state', 'account length', 'area code', 'phone', 'intl plan',\n",
       "       'vmail plan', 'vmail message', 'day mins', 'day calls', 'day charge',\n",
       "       'eve mins', 'eve calls', 'eve charge', 'night mins', 'night calls',\n",
       "       'night charge', 'intl mins', 'intl calls', 'intl charge',\n",
       "       'custserv calls', 'churn'],\n",
       "      dtype='object')"
      ]
     },
     "execution_count": 365,
     "metadata": {},
     "output_type": "execute_result"
    }
   ],
   "source": [
    "df.columns"
   ]
  },
  {
   "cell_type": "code",
   "execution_count": 366,
   "metadata": {},
   "outputs": [],
   "source": [
    "missing=['day charge','eve mins', 'eve calls','night charge','intl calls', 'intl charge']"
   ]
  },
  {
   "cell_type": "code",
   "execution_count": 367,
   "metadata": {},
   "outputs": [],
   "source": [
    "cont_features=['index', 'account length', 'vmail message', 'day mins', 'day calls','eve charge', 'night mins', 'night calls', 'intl mins','day charge','eve mins', 'eve calls','night charge','intl calls', 'intl charge']"
   ]
  },
  {
   "cell_type": "code",
   "execution_count": 368,
   "metadata": {},
   "outputs": [
    {
     "data": {
      "text/plain": [
       "['index',\n",
       " 'account length',\n",
       " 'vmail message',\n",
       " 'day mins',\n",
       " 'day calls',\n",
       " 'eve charge',\n",
       " 'night mins',\n",
       " 'night calls',\n",
       " 'intl mins',\n",
       " 'day charge',\n",
       " 'eve mins',\n",
       " 'eve calls',\n",
       " 'night charge',\n",
       " 'intl calls',\n",
       " 'intl charge']"
      ]
     },
     "execution_count": 368,
     "metadata": {},
     "output_type": "execute_result"
    }
   ],
   "source": [
    "cont_features"
   ]
  },
  {
   "cell_type": "code",
   "execution_count": 369,
   "metadata": {},
   "outputs": [],
   "source": [
    "from sklearn import preprocessing"
   ]
  },
  {
   "cell_type": "code",
   "execution_count": 370,
   "metadata": {},
   "outputs": [
    {
     "name": "stdout",
     "output_type": "stream",
     "text": [
      "[1666.          101.06480648    8.0990099   179.77509751  100.43564356\n",
      "   17.08354035  200.8720372   100.10771077   10.23729373   30.56588016\n",
      "  200.96890601  100.15392819    9.03707244    4.49868963    2.7638108 ]\n"
     ]
    }
   ],
   "source": [
    "cont_imputer = preprocessing.Imputer()\n",
    "cont_imputer.fit(df[cont_features])\n",
    "print(cont_imputer.statistics_)"
   ]
  },
  {
   "cell_type": "code",
   "execution_count": 371,
   "metadata": {},
   "outputs": [],
   "source": [
    "df[cont_features]=cont_imputer.fit_transform(df[cont_features])"
   ]
  },
  {
   "cell_type": "code",
   "execution_count": 372,
   "metadata": {},
   "outputs": [
    {
     "name": "stdout",
     "output_type": "stream",
     "text": [
      "<class 'pandas.core.frame.DataFrame'>\n",
      "RangeIndex: 3333 entries, 0 to 3332\n",
      "Data columns (total 22 columns):\n",
      "index             3333 non-null float64\n",
      "state             3333 non-null object\n",
      "account length    3333 non-null float64\n",
      "area code         3160 non-null object\n",
      "phone             3333 non-null object\n",
      "intl plan         2805 non-null object\n",
      "vmail plan        2984 non-null object\n",
      "vmail message     3333 non-null float64\n",
      "day mins          3333 non-null float64\n",
      "day calls         3333 non-null float64\n",
      "day charge        3333 non-null float64\n",
      "eve mins          3333 non-null float64\n",
      "eve calls         3333 non-null float64\n",
      "eve charge        3333 non-null float64\n",
      "night mins        3333 non-null float64\n",
      "night calls       3333 non-null float64\n",
      "night charge      3333 non-null float64\n",
      "intl mins         3333 non-null float64\n",
      "intl calls        3333 non-null float64\n",
      "intl charge       3333 non-null float64\n",
      "custserv calls    3333 non-null category\n",
      "churn             3333 non-null object\n",
      "dtypes: category(1), float64(15), object(6)\n",
      "memory usage: 550.5+ KB\n"
     ]
    }
   ],
   "source": [
    "df.info()"
   ]
  },
  {
   "cell_type": "code",
   "execution_count": 373,
   "metadata": {},
   "outputs": [
    {
     "data": {
      "text/plain": [
       "Index(['state', 'area code', 'phone', 'intl plan', 'vmail plan',\n",
       "       'custserv calls', 'churn'],\n",
       "      dtype='object')"
      ]
     },
     "execution_count": 373,
     "metadata": {},
     "output_type": "execute_result"
    }
   ],
   "source": [
    "cat_features"
   ]
  },
  {
   "cell_type": "code",
   "execution_count": 374,
   "metadata": {},
   "outputs": [],
   "source": [
    "imp_cat_features=['area code','intl plan', 'vmail plan']"
   ]
  },
  {
   "cell_type": "code",
   "execution_count": 375,
   "metadata": {},
   "outputs": [],
   "source": [
    "from sklearn_pandas import CategoricalImputer"
   ]
  },
  {
   "cell_type": "code",
   "execution_count": 376,
   "metadata": {},
   "outputs": [
    {
     "name": "stdout",
     "output_type": "stream",
     "text": [
      "area code\n",
      "415\n",
      "intl plan\n",
      "no\n",
      "vmail plan\n",
      "no\n"
     ]
    }
   ],
   "source": [
    "for col in df[imp_cat_features]:\n",
    "    print(col)\n",
    "    cat_imputer = CategoricalImputer()\n",
    "    cat_imputer.fit(df[col])\n",
    "    print(cat_imputer.fill_)\n",
    "    df[col] = cat_imputer.transform(df[col])"
   ]
  },
  {
   "cell_type": "code",
   "execution_count": 377,
   "metadata": {},
   "outputs": [
    {
     "name": "stdout",
     "output_type": "stream",
     "text": [
      "<class 'pandas.core.frame.DataFrame'>\n",
      "RangeIndex: 3333 entries, 0 to 3332\n",
      "Data columns (total 22 columns):\n",
      "index             3333 non-null float64\n",
      "state             3333 non-null object\n",
      "account length    3333 non-null float64\n",
      "area code         3333 non-null object\n",
      "phone             3333 non-null object\n",
      "intl plan         3333 non-null object\n",
      "vmail plan        3333 non-null object\n",
      "vmail message     3333 non-null float64\n",
      "day mins          3333 non-null float64\n",
      "day calls         3333 non-null float64\n",
      "day charge        3333 non-null float64\n",
      "eve mins          3333 non-null float64\n",
      "eve calls         3333 non-null float64\n",
      "eve charge        3333 non-null float64\n",
      "night mins        3333 non-null float64\n",
      "night calls       3333 non-null float64\n",
      "night charge      3333 non-null float64\n",
      "intl mins         3333 non-null float64\n",
      "intl calls        3333 non-null float64\n",
      "intl charge       3333 non-null float64\n",
      "custserv calls    3333 non-null category\n",
      "churn             3333 non-null object\n",
      "dtypes: category(1), float64(15), object(6)\n",
      "memory usage: 550.5+ KB\n"
     ]
    }
   ],
   "source": [
    "df.info()"
   ]
  },
  {
   "cell_type": "code",
   "execution_count": 227,
   "metadata": {},
   "outputs": [
    {
     "data": {
      "text/plain": [
       "<matplotlib.axes._subplots.AxesSubplot at 0x1f6bda89cf8>"
      ]
     },
     "execution_count": 227,
     "metadata": {},
     "output_type": "execute_result"
    },
    {
     "data": {
      "image/png": "[encoded data removed]",
      "text/plain": [
       "<Figure size 432x288 with 1 Axes>"
      ]
     },
     "metadata": {
      "needs_background": "light"
     },
     "output_type": "display_data"
    }
   ],
   "source": [
    "sns.countplot(x='custserv calls',data=df)"
   ]
  },
  {
   "cell_type": "code",
   "execution_count": 228,
   "metadata": {},
   "outputs": [
    {
     "data": {
      "text/plain": [
       "WV    106\n",
       "MN     84\n",
       "NY     83\n",
       "AL     80\n",
       "WI     78\n",
       "OR     78\n",
       "OH     78\n",
       "VA     77\n",
       "WY     77\n",
       "CT     74\n",
       "ID     73\n",
       "MI     73\n",
       "VT     73\n",
       "UT     72\n",
       "TX     72\n",
       "IN     71\n",
       "KS     70\n",
       "MD     70\n",
       "NC     68\n",
       "NJ     68\n",
       "MT     68\n",
       "WA     66\n",
       "CO     66\n",
       "NV     66\n",
       "MA     65\n",
       "MS     65\n",
       "RI     65\n",
       "AZ     64\n",
       "MO     63\n",
       "FL     63\n",
       "NM     62\n",
       "ND     62\n",
       "ME     62\n",
       "NE     61\n",
       "OK     61\n",
       "DE     61\n",
       "SC     60\n",
       "SD     60\n",
       "KY     59\n",
       "IL     58\n",
       "NH     56\n",
       "AR     55\n",
       "DC     54\n",
       "GA     54\n",
       "TN     53\n",
       "HI     53\n",
       "AK     52\n",
       "LA     51\n",
       "PA     45\n",
       "IA     44\n",
       "CA     34\n",
       "Name: state, dtype: int64"
      ]
     },
     "execution_count": 228,
     "metadata": {},
     "output_type": "execute_result"
    }
   ],
   "source": [
    "df.state.value_counts()"
   ]
  },
  {
   "cell_type": "code",
   "execution_count": 98,
   "metadata": {},
   "outputs": [
    {
     "data": {
      "text/plain": [
       "<matplotlib.axes._subplots.AxesSubplot at 0x1f6b6c67160>"
      ]
     },
     "execution_count": 98,
     "metadata": {},
     "output_type": "execute_result"
    },
    {
     "data": {
      "image/png": "[encoded data removed]",
      "text/plain": [
       "<Figure size 432x288 with 1 Axes>"
      ]
     },
     "metadata": {
      "needs_background": "light"
     },
     "output_type": "display_data"
    }
   ],
   "source": [
    "sns.countplot(x='intl plan',data=df)"
   ]
  },
  {
   "cell_type": "code",
   "execution_count": 99,
   "metadata": {},
   "outputs": [
    {
     "data": {
      "text/plain": [
       "<matplotlib.axes._subplots.AxesSubplot at 0x1f6b6ca49b0>"
      ]
     },
     "execution_count": 99,
     "metadata": {},
     "output_type": "execute_result"
    },
    {
     "data": {
      "image/png": "[encoded data removed]",
      "text/plain": [
       "<Figure size 432x288 with 1 Axes>"
      ]
     },
     "metadata": {
      "needs_background": "light"
     },
     "output_type": "display_data"
    }
   ],
   "source": [
    "sns.countplot(x='vmail plan',data=df)"
   ]
  },
  {
   "cell_type": "code",
   "execution_count": 121,
   "metadata": {},
   "outputs": [
    {
     "data": {
      "text/plain": [
       "<matplotlib.axes._subplots.AxesSubplot at 0x1f6b84ac7f0>"
      ]
     },
     "execution_count": 121,
     "metadata": {},
     "output_type": "execute_result"
    },
    {
     "data": {
      "image/png": "[encoded data removed]",
      "text/plain": [
       "<Figure size 432x288 with 1 Axes>"
      ]
     },
     "metadata": {
      "needs_background": "light"
     },
     "output_type": "display_data"
    }
   ],
   "source": [
    "sns.distplot(df[''], bins=10, kde=True)"
   ]
  },
  {
   "cell_type": "code",
   "execution_count": 104,
   "metadata": {},
   "outputs": [
    {
     "name": "stdout",
     "output_type": "stream",
     "text": [
      "<class 'pandas.core.frame.DataFrame'>\n",
      "RangeIndex: 3333 entries, 0 to 3332\n",
      "Data columns (total 22 columns):\n",
      "index             3333 non-null float64\n",
      "state             3333 non-null object\n",
      "account length    3333 non-null float64\n",
      "area code         3333 non-null object\n",
      "phone             3333 non-null object\n",
      "intl plan         3333 non-null object\n",
      "vmail plan        3333 non-null object\n",
      "vmail message     3333 non-null float64\n",
      "day mins          3333 non-null float64\n",
      "day calls         3333 non-null float64\n",
      "day charge        3333 non-null float64\n",
      "eve mins          3333 non-null float64\n",
      "eve calls         3333 non-null float64\n",
      "eve charge        3333 non-null float64\n",
      "night mins        3333 non-null float64\n",
      "night calls       3333 non-null float64\n",
      "night charge      3333 non-null float64\n",
      "intl mins         3333 non-null float64\n",
      "intl calls        3333 non-null float64\n",
      "intl charge       3333 non-null float64\n",
      "custserv calls    3333 non-null category\n",
      "churn             3333 non-null object\n",
      "dtypes: category(1), float64(15), object(6)\n",
      "memory usage: 550.5+ KB\n"
     ]
    }
   ],
   "source": [
    "df.info()"
   ]
  },
  {
   "cell_type": "code",
   "execution_count": 478,
   "metadata": {},
   "outputs": [
    {
     "data": {
      "text/plain": [
       "<matplotlib.axes._subplots.AxesSubplot at 0x1f6d8f93f28>"
      ]
     },
     "execution_count": 478,
     "metadata": {},
     "output_type": "execute_result"
    },
    {
     "data": {
      "image/png": "[encoded data removed]",
      "text/plain": [
       "<Figure size 432x288 with 1 Axes>"
      ]
     },
     "metadata": {
      "needs_background": "light"
     },
     "output_type": "display_data"
    }
   ],
   "source": [
    "sns.distplot(df['intl calls'], bins=10, kde=True)"
   ]
  },
  {
   "cell_type": "code",
   "execution_count": 120,
   "metadata": {},
   "outputs": [
    {
     "data": {
      "text/plain": [
       "<matplotlib.axes._subplots.AxesSubplot at 0x1f6b83cbac8>"
      ]
     },
     "execution_count": 120,
     "metadata": {},
     "output_type": "execute_result"
    },
    {
     "data": {
      "image/png": "[encoded data removed]",
      "text/plain": [
       "<Figure size 432x288 with 1 Axes>"
      ]
     },
     "metadata": {
      "needs_background": "light"
     },
     "output_type": "display_data"
    }
   ],
   "source": [
    "sns.distplot(df['intl charge'], bins=10, kde=True)"
   ]
  },
  {
   "cell_type": "code",
   "execution_count": 109,
   "metadata": {},
   "outputs": [
    {
     "data": {
      "text/plain": [
       "<matplotlib.axes._subplots.AxesSubplot at 0x1f6b7f23828>"
      ]
     },
     "execution_count": 109,
     "metadata": {},
     "output_type": "execute_result"
    },
    {
     "data": {
      "image/png": "[encoded data removed]",
      "text/plain": [
       "<Figure size 432x288 with 1 Axes>"
      ]
     },
     "metadata": {
      "needs_background": "light"
     },
     "output_type": "display_data"
    }
   ],
   "source": [
    "sns.distplot(df['day calls'], bins=20, kde=True)"
   ]
  },
  {
   "cell_type": "code",
   "execution_count": 110,
   "metadata": {},
   "outputs": [
    {
     "data": {
      "text/plain": [
       "<matplotlib.axes._subplots.AxesSubplot at 0x1f6b7fa99e8>"
      ]
     },
     "execution_count": 110,
     "metadata": {},
     "output_type": "execute_result"
    },
    {
     "data": {
      "image/png": "[encoded data removed]",
      "text/plain": [
       "<Figure size 432x288 with 1 Axes>"
      ]
     },
     "metadata": {
      "needs_background": "light"
     },
     "output_type": "display_data"
    }
   ],
   "source": [
    "sns.distplot(df['day charge'], bins=20, kde=True)"
   ]
  },
  {
   "cell_type": "markdown",
   "metadata": {},
   "source": [
    "## INTL calls is skewed"
   ]
  },
  {
   "cell_type": "markdown",
   "metadata": {},
   "source": [
    "## BI variate analysis"
   ]
  },
  {
   "cell_type": "code",
   "execution_count": 126,
   "metadata": {},
   "outputs": [
    {
     "data": {
      "text/plain": [
       "<seaborn.axisgrid.FacetGrid at 0x1f6b845ba20>"
      ]
     },
     "execution_count": 126,
     "metadata": {},
     "output_type": "execute_result"
    },
    {
     "data": {
      "image/png": "[encoded data removed]",
      "text/plain": [
       "<Figure size 497.375x432 with 1 Axes>"
      ]
     },
     "metadata": {
      "needs_background": "light"
     },
     "output_type": "display_data"
    }
   ],
   "source": [
    "sns.catplot(x=\"area code\", hue=\"churn\", data=df, kind=\"count\", height=6)"
   ]
  },
  {
   "cell_type": "markdown",
   "metadata": {},
   "source": [
    "## area code 415 has higher no and yes churns"
   ]
  },
  {
   "cell_type": "code",
   "execution_count": 128,
   "metadata": {},
   "outputs": [
    {
     "data": {
      "text/plain": [
       "<seaborn.axisgrid.FacetGrid at 0x1f6b8663c88>"
      ]
     },
     "execution_count": 128,
     "metadata": {},
     "output_type": "execute_result"
    },
    {
     "data": {
      "image/png": "[encoded data removed]",
      "text/plain": [
       "<Figure size 1145.38x1080 with 1 Axes>"
      ]
     },
     "metadata": {
      "needs_background": "light"
     },
     "output_type": "display_data"
    }
   ],
   "source": [
    "sns.catplot(x=\"state\", hue=\"churn\", data=df, kind=\"count\", height=15)"
   ]
  },
  {
   "cell_type": "markdown",
   "metadata": {},
   "source": [
    "## WV has higher no churn rate,NJ,TX has equal yes for churning"
   ]
  },
  {
   "cell_type": "code",
   "execution_count": 129,
   "metadata": {},
   "outputs": [
    {
     "data": {
      "text/plain": [
       "Index(['state', 'area code', 'phone', 'intl plan', 'vmail plan',\n",
       "       'custserv calls', 'churn'],\n",
       "      dtype='object')"
      ]
     },
     "execution_count": 129,
     "metadata": {},
     "output_type": "execute_result"
    }
   ],
   "source": [
    "cat_features"
   ]
  },
  {
   "cell_type": "code",
   "execution_count": 131,
   "metadata": {},
   "outputs": [
    {
     "data": {
      "text/plain": [
       "<seaborn.axisgrid.FacetGrid at 0x1f6b8587550>"
      ]
     },
     "execution_count": 131,
     "metadata": {},
     "output_type": "execute_result"
    },
    {
     "data": {
      "image/png": "[encoded data removed]",
      "text/plain": [
       "<Figure size 497.375x432 with 1 Axes>"
      ]
     },
     "metadata": {
      "needs_background": "light"
     },
     "output_type": "display_data"
    }
   ],
   "source": [
    "sns.catplot(x=\"intl plan\", hue=\"churn\", data=df, kind=\"count\", height=6)"
   ]
  },
  {
   "cell_type": "markdown",
   "metadata": {},
   "source": [
    "## customers with no international plan seems to not churn more but there is not big diffrence in people opting a intl plan and churning"
   ]
  },
  {
   "cell_type": "code",
   "execution_count": 132,
   "metadata": {},
   "outputs": [
    {
     "data": {
      "text/plain": [
       "<seaborn.axisgrid.FacetGrid at 0x1f6b9a7ed30>"
      ]
     },
     "execution_count": 132,
     "metadata": {},
     "output_type": "execute_result"
    },
    {
     "data": {
      "image/png": "[encoded data removed]",
      "text/plain": [
       "<Figure size 497.375x432 with 1 Axes>"
      ]
     },
     "metadata": {
      "needs_background": "light"
     },
     "output_type": "display_data"
    }
   ],
   "source": [
    "sns.catplot(x=\"vmail plan\", hue=\"churn\", data=df, kind=\"count\", height=6)"
   ]
  },
  {
   "cell_type": "markdown",
   "metadata": {},
   "source": [
    "## customers with no vmail plan tend not to churn, but not a very usefull feature"
   ]
  },
  {
   "cell_type": "code",
   "execution_count": 133,
   "metadata": {},
   "outputs": [
    {
     "data": {
      "text/plain": [
       "<seaborn.axisgrid.FacetGrid at 0x1f6b9bcf9b0>"
      ]
     },
     "execution_count": 133,
     "metadata": {},
     "output_type": "execute_result"
    },
    {
     "data": {
      "image/png": "[encoded data removed]",
      "text/plain": [
       "<Figure size 497.375x432 with 1 Axes>"
      ]
     },
     "metadata": {
      "needs_background": "light"
     },
     "output_type": "display_data"
    }
   ],
   "source": [
    "sns.catplot(x=\"custserv calls\", hue=\"churn\", data=df, kind=\"count\", height=6)"
   ]
  },
  {
   "cell_type": "code",
   "execution_count": 137,
   "metadata": {},
   "outputs": [
    {
     "data": {
      "text/plain": [
       "<seaborn.axisgrid.FacetGrid at 0x1f6ba76d748>"
      ]
     },
     "execution_count": 137,
     "metadata": {},
     "output_type": "execute_result"
    },
    {
     "data": {
      "image/png": "[encoded data removed]",
      "text/plain": [
       "<Figure size 641.375x576 with 1 Axes>"
      ]
     },
     "metadata": {
      "needs_background": "light"
     },
     "output_type": "display_data"
    }
   ],
   "source": [
    "sns.FacetGrid(df, hue=\"churn\",height=8).map(sns.kdeplot, \"day mins\").add_legend()"
   ]
  },
  {
   "cell_type": "code",
   "execution_count": 136,
   "metadata": {},
   "outputs": [
    {
     "name": "stdout",
     "output_type": "stream",
     "text": [
      "<class 'pandas.core.frame.DataFrame'>\n",
      "RangeIndex: 3333 entries, 0 to 3332\n",
      "Data columns (total 22 columns):\n",
      "index             3333 non-null float64\n",
      "state             3333 non-null object\n",
      "account length    3333 non-null float64\n",
      "area code         3333 non-null object\n",
      "phone             3333 non-null object\n",
      "intl plan         3333 non-null object\n",
      "vmail plan        3333 non-null object\n",
      "vmail message     3333 non-null float64\n",
      "day mins          3333 non-null float64\n",
      "day calls         3333 non-null float64\n",
      "day charge        3333 non-null float64\n",
      "eve mins          3333 non-null float64\n",
      "eve calls         3333 non-null float64\n",
      "eve charge        3333 non-null float64\n",
      "night mins        3333 non-null float64\n",
      "night calls       3333 non-null float64\n",
      "night charge      3333 non-null float64\n",
      "intl mins         3333 non-null float64\n",
      "intl calls        3333 non-null float64\n",
      "intl charge       3333 non-null float64\n",
      "custserv calls    3333 non-null category\n",
      "churn             3333 non-null object\n",
      "dtypes: category(1), float64(15), object(6)\n",
      "memory usage: 550.5+ KB\n"
     ]
    }
   ],
   "source": [
    "df.info()"
   ]
  },
  {
   "cell_type": "code",
   "execution_count": 229,
   "metadata": {},
   "outputs": [],
   "source": [
    "##label encoding"
   ]
  },
  {
   "cell_type": "code",
   "execution_count": 378,
   "metadata": {},
   "outputs": [],
   "source": [
    "le_cat=['state','area code','intl plan','vmail plan','churn']"
   ]
  },
  {
   "cell_type": "code",
   "execution_count": 379,
   "metadata": {},
   "outputs": [
    {
     "name": "stdout",
     "output_type": "stream",
     "text": [
      "['AK' 'AL' 'AR' 'AZ' 'CA' 'CO' 'CT' 'DC' 'DE' 'FL' 'GA' 'HI' 'IA' 'ID'\n",
      " 'IL' 'IN' 'KS' 'KY' 'LA' 'MA' 'MD' 'ME' 'MI' 'MN' 'MO' 'MS' 'MT' 'NC'\n",
      " 'ND' 'NE' 'NH' 'NJ' 'NM' 'NV' 'NY' 'OH' 'OK' 'OR' 'PA' 'RI' 'SC' 'SD'\n",
      " 'TN' 'TX' 'UT' 'VA' 'VT' 'WA' 'WI' 'WV' 'WY']\n",
      "['408' '415' '510']\n",
      "['no' 'yes']\n",
      "['no' 'yes']\n",
      "['False.' 'True.']\n"
     ]
    }
   ],
   "source": [
    "for col in df[le_cat]:\n",
    "    le_all=preprocessing.LabelEncoder()\n",
    "    le_all.fit(df[col])\n",
    "    print(le_all.classes_)\n",
    "    df[col]=le_all.transform(df[col])"
   ]
  },
  {
   "cell_type": "code",
   "execution_count": 380,
   "metadata": {},
   "outputs": [
    {
     "data": {
      "text/html": [
       "<div>\n",
       "<style scoped>\n",
       "    .dataframe tbody tr th:only-of-type {\n",
       "        vertical-align: middle;\n",
       "    }\n",
       "\n",
       "    .dataframe tbody tr th {\n",
       "        vertical-align: top;\n",
       "    }\n",
       "\n",
       "    .dataframe thead th {\n",
       "        text-align: right;\n",
       "    }\n",
       "</style>\n",
       "<table border=\"1\" class=\"dataframe\">\n",
       "  <thead>\n",
       "    <tr style=\"text-align: right;\">\n",
       "      <th></th>\n",
       "      <th>index</th>\n",
       "      <th>state</th>\n",
       "      <th>account length</th>\n",
       "      <th>area code</th>\n",
       "      <th>phone</th>\n",
       "      <th>intl plan</th>\n",
       "      <th>vmail plan</th>\n",
       "      <th>vmail message</th>\n",
       "      <th>day mins</th>\n",
       "      <th>day calls</th>\n",
       "      <th>...</th>\n",
       "      <th>eve calls</th>\n",
       "      <th>eve charge</th>\n",
       "      <th>night mins</th>\n",
       "      <th>night calls</th>\n",
       "      <th>night charge</th>\n",
       "      <th>intl mins</th>\n",
       "      <th>intl calls</th>\n",
       "      <th>intl charge</th>\n",
       "      <th>custserv calls</th>\n",
       "      <th>churn</th>\n",
       "    </tr>\n",
       "  </thead>\n",
       "  <tbody>\n",
       "    <tr>\n",
       "      <th>0</th>\n",
       "      <td>0.0</td>\n",
       "      <td>16</td>\n",
       "      <td>128.0</td>\n",
       "      <td>1</td>\n",
       "      <td>382-4657</td>\n",
       "      <td>0</td>\n",
       "      <td>1</td>\n",
       "      <td>25.0</td>\n",
       "      <td>265.1</td>\n",
       "      <td>110.0</td>\n",
       "      <td>...</td>\n",
       "      <td>99.0</td>\n",
       "      <td>16.78</td>\n",
       "      <td>244.7</td>\n",
       "      <td>91.0</td>\n",
       "      <td>11.01</td>\n",
       "      <td>10.0</td>\n",
       "      <td>3.0</td>\n",
       "      <td>2.70</td>\n",
       "      <td>1</td>\n",
       "      <td>0</td>\n",
       "    </tr>\n",
       "    <tr>\n",
       "      <th>1</th>\n",
       "      <td>1.0</td>\n",
       "      <td>35</td>\n",
       "      <td>107.0</td>\n",
       "      <td>1</td>\n",
       "      <td>371-7191</td>\n",
       "      <td>0</td>\n",
       "      <td>1</td>\n",
       "      <td>26.0</td>\n",
       "      <td>161.6</td>\n",
       "      <td>123.0</td>\n",
       "      <td>...</td>\n",
       "      <td>103.0</td>\n",
       "      <td>16.62</td>\n",
       "      <td>254.4</td>\n",
       "      <td>103.0</td>\n",
       "      <td>11.45</td>\n",
       "      <td>13.7</td>\n",
       "      <td>3.0</td>\n",
       "      <td>3.70</td>\n",
       "      <td>1</td>\n",
       "      <td>0</td>\n",
       "    </tr>\n",
       "    <tr>\n",
       "      <th>2</th>\n",
       "      <td>2.0</td>\n",
       "      <td>31</td>\n",
       "      <td>137.0</td>\n",
       "      <td>1</td>\n",
       "      <td>358-1921</td>\n",
       "      <td>0</td>\n",
       "      <td>0</td>\n",
       "      <td>0.0</td>\n",
       "      <td>243.4</td>\n",
       "      <td>114.0</td>\n",
       "      <td>...</td>\n",
       "      <td>110.0</td>\n",
       "      <td>10.30</td>\n",
       "      <td>162.6</td>\n",
       "      <td>104.0</td>\n",
       "      <td>7.32</td>\n",
       "      <td>12.2</td>\n",
       "      <td>5.0</td>\n",
       "      <td>3.29</td>\n",
       "      <td>0</td>\n",
       "      <td>0</td>\n",
       "    </tr>\n",
       "    <tr>\n",
       "      <th>3</th>\n",
       "      <td>3.0</td>\n",
       "      <td>35</td>\n",
       "      <td>84.0</td>\n",
       "      <td>0</td>\n",
       "      <td>375-9999</td>\n",
       "      <td>1</td>\n",
       "      <td>0</td>\n",
       "      <td>0.0</td>\n",
       "      <td>299.4</td>\n",
       "      <td>71.0</td>\n",
       "      <td>...</td>\n",
       "      <td>88.0</td>\n",
       "      <td>5.26</td>\n",
       "      <td>196.9</td>\n",
       "      <td>89.0</td>\n",
       "      <td>8.86</td>\n",
       "      <td>6.6</td>\n",
       "      <td>7.0</td>\n",
       "      <td>1.78</td>\n",
       "      <td>2</td>\n",
       "      <td>0</td>\n",
       "    </tr>\n",
       "    <tr>\n",
       "      <th>4</th>\n",
       "      <td>4.0</td>\n",
       "      <td>36</td>\n",
       "      <td>75.0</td>\n",
       "      <td>1</td>\n",
       "      <td>330-6626</td>\n",
       "      <td>1</td>\n",
       "      <td>0</td>\n",
       "      <td>0.0</td>\n",
       "      <td>166.7</td>\n",
       "      <td>113.0</td>\n",
       "      <td>...</td>\n",
       "      <td>122.0</td>\n",
       "      <td>12.61</td>\n",
       "      <td>186.9</td>\n",
       "      <td>121.0</td>\n",
       "      <td>8.41</td>\n",
       "      <td>10.1</td>\n",
       "      <td>3.0</td>\n",
       "      <td>2.73</td>\n",
       "      <td>3</td>\n",
       "      <td>0</td>\n",
       "    </tr>\n",
       "  </tbody>\n",
       "</table>\n",
       "<p>5 rows × 22 columns</p>\n",
       "</div>"
      ],
      "text/plain": [
       "   index  state  account length  area code     phone  intl plan  vmail plan  \\\n",
       "0    0.0     16           128.0          1  382-4657          0           1   \n",
       "1    1.0     35           107.0          1  371-7191          0           1   \n",
       "2    2.0     31           137.0          1  358-1921          0           0   \n",
       "3    3.0     35            84.0          0  375-9999          1           0   \n",
       "4    4.0     36            75.0          1  330-6626          1           0   \n",
       "\n",
       "   vmail message  day mins  day calls  ...  eve calls  eve charge  night mins  \\\n",
       "0           25.0     265.1      110.0  ...       99.0       16.78       244.7   \n",
       "1           26.0     161.6      123.0  ...      103.0       16.62       254.4   \n",
       "2            0.0     243.4      114.0  ...      110.0       10.30       162.6   \n",
       "3            0.0     299.4       71.0  ...       88.0        5.26       196.9   \n",
       "4            0.0     166.7      113.0  ...      122.0       12.61       186.9   \n",
       "\n",
       "   night calls  night charge  intl mins  intl calls  intl charge  \\\n",
       "0         91.0         11.01       10.0         3.0         2.70   \n",
       "1        103.0         11.45       13.7         3.0         3.70   \n",
       "2        104.0          7.32       12.2         5.0         3.29   \n",
       "3         89.0          8.86        6.6         7.0         1.78   \n",
       "4        121.0          8.41       10.1         3.0         2.73   \n",
       "\n",
       "   custserv calls  churn  \n",
       "0               1      0  \n",
       "1               1      0  \n",
       "2               0      0  \n",
       "3               2      0  \n",
       "4               3      0  \n",
       "\n",
       "[5 rows x 22 columns]"
      ]
     },
     "execution_count": 380,
     "metadata": {},
     "output_type": "execute_result"
    }
   ],
   "source": [
    "df.head()"
   ]
  },
  {
   "cell_type": "code",
   "execution_count": 381,
   "metadata": {},
   "outputs": [],
   "source": [
    "X=df.drop(['index','phone','vmail message','churn'],axis=1)"
   ]
  },
  {
   "cell_type": "code",
   "execution_count": 382,
   "metadata": {},
   "outputs": [
    {
     "data": {
      "text/html": [
       "<div>\n",
       "<style scoped>\n",
       "    .dataframe tbody tr th:only-of-type {\n",
       "        vertical-align: middle;\n",
       "    }\n",
       "\n",
       "    .dataframe tbody tr th {\n",
       "        vertical-align: top;\n",
       "    }\n",
       "\n",
       "    .dataframe thead th {\n",
       "        text-align: right;\n",
       "    }\n",
       "</style>\n",
       "<table border=\"1\" class=\"dataframe\">\n",
       "  <thead>\n",
       "    <tr style=\"text-align: right;\">\n",
       "      <th></th>\n",
       "      <th>state</th>\n",
       "      <th>account length</th>\n",
       "      <th>area code</th>\n",
       "      <th>intl plan</th>\n",
       "      <th>vmail plan</th>\n",
       "      <th>day mins</th>\n",
       "      <th>day calls</th>\n",
       "      <th>day charge</th>\n",
       "      <th>eve mins</th>\n",
       "      <th>eve calls</th>\n",
       "      <th>eve charge</th>\n",
       "      <th>night mins</th>\n",
       "      <th>night calls</th>\n",
       "      <th>night charge</th>\n",
       "      <th>intl mins</th>\n",
       "      <th>intl calls</th>\n",
       "      <th>intl charge</th>\n",
       "      <th>custserv calls</th>\n",
       "    </tr>\n",
       "  </thead>\n",
       "  <tbody>\n",
       "    <tr>\n",
       "      <th>0</th>\n",
       "      <td>16</td>\n",
       "      <td>128.0</td>\n",
       "      <td>1</td>\n",
       "      <td>0</td>\n",
       "      <td>1</td>\n",
       "      <td>265.1</td>\n",
       "      <td>110.0</td>\n",
       "      <td>30.56588</td>\n",
       "      <td>197.4</td>\n",
       "      <td>99.0</td>\n",
       "      <td>16.78</td>\n",
       "      <td>244.7</td>\n",
       "      <td>91.0</td>\n",
       "      <td>11.01</td>\n",
       "      <td>10.0</td>\n",
       "      <td>3.0</td>\n",
       "      <td>2.70</td>\n",
       "      <td>1</td>\n",
       "    </tr>\n",
       "    <tr>\n",
       "      <th>1</th>\n",
       "      <td>35</td>\n",
       "      <td>107.0</td>\n",
       "      <td>1</td>\n",
       "      <td>0</td>\n",
       "      <td>1</td>\n",
       "      <td>161.6</td>\n",
       "      <td>123.0</td>\n",
       "      <td>30.56588</td>\n",
       "      <td>195.5</td>\n",
       "      <td>103.0</td>\n",
       "      <td>16.62</td>\n",
       "      <td>254.4</td>\n",
       "      <td>103.0</td>\n",
       "      <td>11.45</td>\n",
       "      <td>13.7</td>\n",
       "      <td>3.0</td>\n",
       "      <td>3.70</td>\n",
       "      <td>1</td>\n",
       "    </tr>\n",
       "    <tr>\n",
       "      <th>2</th>\n",
       "      <td>31</td>\n",
       "      <td>137.0</td>\n",
       "      <td>1</td>\n",
       "      <td>0</td>\n",
       "      <td>0</td>\n",
       "      <td>243.4</td>\n",
       "      <td>114.0</td>\n",
       "      <td>30.56588</td>\n",
       "      <td>121.2</td>\n",
       "      <td>110.0</td>\n",
       "      <td>10.30</td>\n",
       "      <td>162.6</td>\n",
       "      <td>104.0</td>\n",
       "      <td>7.32</td>\n",
       "      <td>12.2</td>\n",
       "      <td>5.0</td>\n",
       "      <td>3.29</td>\n",
       "      <td>0</td>\n",
       "    </tr>\n",
       "    <tr>\n",
       "      <th>3</th>\n",
       "      <td>35</td>\n",
       "      <td>84.0</td>\n",
       "      <td>0</td>\n",
       "      <td>1</td>\n",
       "      <td>0</td>\n",
       "      <td>299.4</td>\n",
       "      <td>71.0</td>\n",
       "      <td>50.90000</td>\n",
       "      <td>61.9</td>\n",
       "      <td>88.0</td>\n",
       "      <td>5.26</td>\n",
       "      <td>196.9</td>\n",
       "      <td>89.0</td>\n",
       "      <td>8.86</td>\n",
       "      <td>6.6</td>\n",
       "      <td>7.0</td>\n",
       "      <td>1.78</td>\n",
       "      <td>2</td>\n",
       "    </tr>\n",
       "    <tr>\n",
       "      <th>4</th>\n",
       "      <td>36</td>\n",
       "      <td>75.0</td>\n",
       "      <td>1</td>\n",
       "      <td>1</td>\n",
       "      <td>0</td>\n",
       "      <td>166.7</td>\n",
       "      <td>113.0</td>\n",
       "      <td>28.34000</td>\n",
       "      <td>148.3</td>\n",
       "      <td>122.0</td>\n",
       "      <td>12.61</td>\n",
       "      <td>186.9</td>\n",
       "      <td>121.0</td>\n",
       "      <td>8.41</td>\n",
       "      <td>10.1</td>\n",
       "      <td>3.0</td>\n",
       "      <td>2.73</td>\n",
       "      <td>3</td>\n",
       "    </tr>\n",
       "  </tbody>\n",
       "</table>\n",
       "</div>"
      ],
      "text/plain": [
       "   state  account length  area code  intl plan  vmail plan  day mins  \\\n",
       "0     16           128.0          1          0           1     265.1   \n",
       "1     35           107.0          1          0           1     161.6   \n",
       "2     31           137.0          1          0           0     243.4   \n",
       "3     35            84.0          0          1           0     299.4   \n",
       "4     36            75.0          1          1           0     166.7   \n",
       "\n",
       "   day calls  day charge  eve mins  eve calls  eve charge  night mins  \\\n",
       "0      110.0    30.56588     197.4       99.0       16.78       244.7   \n",
       "1      123.0    30.56588     195.5      103.0       16.62       254.4   \n",
       "2      114.0    30.56588     121.2      110.0       10.30       162.6   \n",
       "3       71.0    50.90000      61.9       88.0        5.26       196.9   \n",
       "4      113.0    28.34000     148.3      122.0       12.61       186.9   \n",
       "\n",
       "   night calls  night charge  intl mins  intl calls  intl charge  \\\n",
       "0         91.0         11.01       10.0         3.0         2.70   \n",
       "1        103.0         11.45       13.7         3.0         3.70   \n",
       "2        104.0          7.32       12.2         5.0         3.29   \n",
       "3         89.0          8.86        6.6         7.0         1.78   \n",
       "4        121.0          8.41       10.1         3.0         2.73   \n",
       "\n",
       "  custserv calls  \n",
       "0              1  \n",
       "1              1  \n",
       "2              0  \n",
       "3              2  \n",
       "4              3  "
      ]
     },
     "execution_count": 382,
     "metadata": {},
     "output_type": "execute_result"
    }
   ],
   "source": [
    "X.head()"
   ]
  },
  {
   "cell_type": "code",
   "execution_count": 235,
   "metadata": {},
   "outputs": [
    {
     "data": {
      "text/plain": [
       "(3333, 18)"
      ]
     },
     "execution_count": 235,
     "metadata": {},
     "output_type": "execute_result"
    }
   ],
   "source": [
    "X.shape"
   ]
  },
  {
   "cell_type": "code",
   "execution_count": 236,
   "metadata": {},
   "outputs": [],
   "source": [
    "y=df.churn"
   ]
  },
  {
   "cell_type": "code",
   "execution_count": 237,
   "metadata": {},
   "outputs": [],
   "source": [
    "from sklearn import ensemble"
   ]
  },
  {
   "cell_type": "code",
   "execution_count": 264,
   "metadata": {},
   "outputs": [],
   "source": [
    "rf=ensemble.RandomForestClassifier(n_jobs=-1,random_state=44)"
   ]
  },
  {
   "cell_type": "code",
   "execution_count": 239,
   "metadata": {},
   "outputs": [],
   "source": [
    "from sklearn.model_selection import GridSearchCV"
   ]
  },
  {
   "cell_type": "code",
   "execution_count": 240,
   "metadata": {},
   "outputs": [
    {
     "ename": "TypeError",
     "evalue": "__init__() missing 1 required positional argument: 'param_grid'",
     "output_type": "error",
     "traceback": [
      "\u001b[1;31m---------------------------------------------------------------------------\u001b[0m",
      "\u001b[1;31mTypeError\u001b[0m                                 Traceback (most recent call last)",
      "\u001b[1;32m<ipython-input-240-06de657f9d8c>\u001b[0m in \u001b[0;36m<module>\u001b[1;34m\u001b[0m\n\u001b[1;32m----> 1\u001b[1;33m \u001b[0mestimator\u001b[0m\u001b[1;33m=\u001b[0m\u001b[0mGridSearchCV\u001b[0m\u001b[1;33m(\u001b[0m\u001b[0mrf\u001b[0m\u001b[1;33m,\u001b[0m\u001b[0mcv\u001b[0m\u001b[1;33m=\u001b[0m\u001b[1;36m10\u001b[0m\u001b[1;33m)\u001b[0m\u001b[1;33m\u001b[0m\u001b[1;33m\u001b[0m\u001b[0m\n\u001b[0m",
      "\u001b[1;31mTypeError\u001b[0m: __init__() missing 1 required positional argument: 'param_grid'"
     ]
    }
   ],
   "source": [
    "estimator=GridSearchCV(rf,cv=10)"
   ]
  },
  {
   "cell_type": "code",
   "execution_count": 241,
   "metadata": {},
   "outputs": [
    {
     "name": "stdout",
     "output_type": "stream",
     "text": [
      "KFold(n_splits=10, random_state=None, shuffle=False)\n"
     ]
    }
   ],
   "source": [
    "from sklearn.model_selection import KFold \n",
    "#kf = KFold(n_splits=5, random_state=None) \n",
    "scores=[]\n",
    "kf = KFold(n_splits=10)\n",
    "kf.get_n_splits(X)\n",
    "print(kf)  \n",
    "#KFold(n_splits=2, random_state=None, shuffle=False)\n",
    "for test_index, train_index in kf.split(X):\n",
    "    #print(\"TRAIN:\", train_index, \"TEST:\", test_index)\n",
    "    X_train, X_test = X.iloc[train_index], X.iloc[test_index]\n",
    "    y_train, y_test = y.iloc[train_index], y.iloc[test_index]\n",
    "    rf.fit(X_train, y_train)\n",
    "    scores.append(rf.score(X_test, y_test))\n",
    "    "
   ]
  },
  {
   "cell_type": "code",
   "execution_count": 242,
   "metadata": {},
   "outputs": [
    {
     "name": "stdout",
     "output_type": "stream",
     "text": [
      "0.8859545292875403\n"
     ]
    }
   ],
   "source": [
    "print(np.mean(scores))"
   ]
  },
  {
   "cell_type": "code",
   "execution_count": 258,
   "metadata": {},
   "outputs": [],
   "source": [
    "from sklearn import model_selection\n",
    "score=[]\n",
    "score=model_selection.cross_val_score(rf, X, y, cv=10,scoring='accuracy')"
   ]
  },
  {
   "cell_type": "code",
   "execution_count": 259,
   "metadata": {},
   "outputs": [
    {
     "name": "stdout",
     "output_type": "stream",
     "text": [
      "0.9406007804211398\n"
     ]
    }
   ],
   "source": [
    "print(np.mean(score))"
   ]
  },
  {
   "cell_type": "code",
   "execution_count": 247,
   "metadata": {},
   "outputs": [],
   "source": [
    "from sklearn.model_selection import train_test_split"
   ]
  },
  {
   "cell_type": "code",
   "execution_count": 384,
   "metadata": {},
   "outputs": [],
   "source": [
    "gb=ensemble.GradientBoostingClassifier()"
   ]
  },
  {
   "cell_type": "code",
   "execution_count": 256,
   "metadata": {},
   "outputs": [],
   "source": [
    "from sklearn import model_selection\n",
    "score=[]\n",
    "score=model_selection.cross_val_score(gb, X, y, cv=10,scoring='accuracy')"
   ]
  },
  {
   "cell_type": "code",
   "execution_count": 257,
   "metadata": {},
   "outputs": [
    {
     "name": "stdout",
     "output_type": "stream",
     "text": [
      "0.9405980831130532\n"
     ]
    }
   ],
   "source": [
    "print(np.mean(score))"
   ]
  },
  {
   "cell_type": "code",
   "execution_count": 281,
   "metadata": {},
   "outputs": [],
   "source": [
    "rf_grid={'bootstrap': [True, False],\n",
    " 'n_estimators': [200, 400],'max_features': ['auto', 'sqrt'],'min_samples_leaf': [1, 2, 4],\n",
    " 'min_samples_split': [2, 5, 10]}"
   ]
  },
  {
   "cell_type": "code",
   "execution_count": 282,
   "metadata": {},
   "outputs": [],
   "source": [
    "gv=GridSearchCV(rf,rf_grid,cv=10,n_jobs=-1)"
   ]
  },
  {
   "cell_type": "code",
   "execution_count": 283,
   "metadata": {},
   "outputs": [
    {
     "data": {
      "text/plain": [
       "GridSearchCV(cv=10, error_score='raise-deprecating',\n",
       "             estimator=RandomForestClassifier(bootstrap=True, class_weight=None,\n",
       "                                              criterion='gini', max_depth=None,\n",
       "                                              max_features='auto',\n",
       "                                              max_leaf_nodes=None,\n",
       "                                              min_impurity_decrease=0.0,\n",
       "                                              min_impurity_split=None,\n",
       "                                              min_samples_leaf=1,\n",
       "                                              min_samples_split=2,\n",
       "                                              min_weight_fraction_leaf=0.0,\n",
       "                                              n_estimators='warn', n_jobs=-1,\n",
       "                                              oob_score=False, random_state=44,\n",
       "                                              verbose=0, warm_start=False),\n",
       "             iid='warn', n_jobs=-1,\n",
       "             param_grid={'bootstrap': [True, False],\n",
       "                         'max_features': ['auto', 'sqrt'],\n",
       "                         'min_samples_leaf': [1, 2, 4],\n",
       "                         'min_samples_split': [2, 5, 10],\n",
       "                         'n_estimators': [200, 400]},\n",
       "             pre_dispatch='2*n_jobs', refit=True, return_train_score=False,\n",
       "             scoring=None, verbose=0)"
      ]
     },
     "execution_count": 283,
     "metadata": {},
     "output_type": "execute_result"
    }
   ],
   "source": [
    "gv.fit(X,y)"
   ]
  },
  {
   "cell_type": "code",
   "execution_count": 284,
   "metadata": {},
   "outputs": [
    {
     "name": "stdout",
     "output_type": "stream",
     "text": [
      "RandomForestClassifier(bootstrap=False, class_weight=None, criterion='gini',\n",
      "                       max_depth=None, max_features='auto', max_leaf_nodes=None,\n",
      "                       min_impurity_decrease=0.0, min_impurity_split=None,\n",
      "                       min_samples_leaf=1, min_samples_split=2,\n",
      "                       min_weight_fraction_leaf=0.0, n_estimators=400,\n",
      "                       n_jobs=-1, oob_score=False, random_state=44, verbose=0,\n",
      "                       warm_start=False)\n"
     ]
    }
   ],
   "source": [
    "print(gv.best_estimator_)"
   ]
  },
  {
   "cell_type": "code",
   "execution_count": 285,
   "metadata": {},
   "outputs": [
    {
     "name": "stdout",
     "output_type": "stream",
     "text": [
      "0.9441944194419442\n"
     ]
    }
   ],
   "source": [
    "print(gv.best_score_)"
   ]
  },
  {
   "cell_type": "code",
   "execution_count": 388,
   "metadata": {},
   "outputs": [],
   "source": [
    "from sklearn.model_selection import train_test_split\n",
    "X_train, X_test, y_train, y_test=train_test_split(X, y, test_size=0.25, random_state=2)"
   ]
  },
  {
   "cell_type": "code",
   "execution_count": 287,
   "metadata": {},
   "outputs": [
    {
     "data": {
      "text/plain": [
       "GridSearchCV(cv=10, error_score='raise-deprecating',\n",
       "             estimator=RandomForestClassifier(bootstrap=True, class_weight=None,\n",
       "                                              criterion='gini', max_depth=None,\n",
       "                                              max_features='auto',\n",
       "                                              max_leaf_nodes=None,\n",
       "                                              min_impurity_decrease=0.0,\n",
       "                                              min_impurity_split=None,\n",
       "                                              min_samples_leaf=1,\n",
       "                                              min_samples_split=2,\n",
       "                                              min_weight_fraction_leaf=0.0,\n",
       "                                              n_estimators='warn', n_jobs=-1,\n",
       "                                              oob_score=False, random_state=44,\n",
       "                                              verbose=0, warm_start=False),\n",
       "             iid='warn', n_jobs=-1,\n",
       "             param_grid={'bootstrap': [True, False],\n",
       "                         'max_features': ['auto', 'sqrt'],\n",
       "                         'min_samples_leaf': [1, 2, 4],\n",
       "                         'min_samples_split': [2, 5, 10],\n",
       "                         'n_estimators': [200, 400]},\n",
       "             pre_dispatch='2*n_jobs', refit=True, return_train_score=False,\n",
       "             scoring=None, verbose=0)"
      ]
     },
     "execution_count": 287,
     "metadata": {},
     "output_type": "execute_result"
    }
   ],
   "source": [
    "gv.fit(X_train,y_train)"
   ]
  },
  {
   "cell_type": "code",
   "execution_count": 288,
   "metadata": {},
   "outputs": [],
   "source": [
    "final_estimator=gv.best_estimator_"
   ]
  },
  {
   "cell_type": "code",
   "execution_count": 289,
   "metadata": {},
   "outputs": [],
   "source": [
    "pred=final_estimator.predict(X_test)"
   ]
  },
  {
   "cell_type": "code",
   "execution_count": 290,
   "metadata": {},
   "outputs": [],
   "source": [
    "from sklearn import metrics"
   ]
  },
  {
   "cell_type": "code",
   "execution_count": 291,
   "metadata": {},
   "outputs": [],
   "source": [
    "acc=metrics.accuracy_score(y_test,pred)"
   ]
  },
  {
   "cell_type": "code",
   "execution_count": 292,
   "metadata": {},
   "outputs": [
    {
     "name": "stdout",
     "output_type": "stream",
     "text": [
      "0.9448441247002398\n"
     ]
    }
   ],
   "source": [
    "print(acc)"
   ]
  },
  {
   "cell_type": "code",
   "execution_count": 293,
   "metadata": {},
   "outputs": [
    {
     "name": "stdout",
     "output_type": "stream",
     "text": [
      "[[712   6]\n",
      " [ 40  76]]\n"
     ]
    }
   ],
   "source": [
    "print(metrics.confusion_matrix(y_test,pred))"
   ]
  },
  {
   "cell_type": "code",
   "execution_count": 294,
   "metadata": {},
   "outputs": [
    {
     "name": "stdout",
     "output_type": "stream",
     "text": [
      "0.7676767676767676\n"
     ]
    }
   ],
   "source": [
    "print(metrics.f1_score(y_test,pred))"
   ]
  },
  {
   "cell_type": "code",
   "execution_count": 385,
   "metadata": {},
   "outputs": [],
   "source": [
    "import xgboost as xgb"
   ]
  },
  {
   "cell_type": "code",
   "execution_count": 386,
   "metadata": {},
   "outputs": [],
   "source": [
    "xboo=xgb.XGBRFClassifier()"
   ]
  },
  {
   "cell_type": "code",
   "execution_count": 428,
   "metadata": {},
   "outputs": [],
   "source": [
    "X['custserv calls'] = X['custserv calls'].astype('int32')"
   ]
  },
  {
   "cell_type": "code",
   "execution_count": 390,
   "metadata": {
    "scrolled": true
   },
   "outputs": [
    {
     "name": "stderr",
     "output_type": "stream",
     "text": [
      "C:\\Users\\vichu\\ana3\\lib\\site-packages\\ipykernel_launcher.py:1: SettingWithCopyWarning: \n",
      "A value is trying to be set on a copy of a slice from a DataFrame.\n",
      "Try using .loc[row_indexer,col_indexer] = value instead\n",
      "\n",
      "See the caveats in the documentation: http://pandas.pydata.org/pandas-docs/stable/indexing.html#indexing-view-versus-copy\n",
      "  \"\"\"Entry point for launching an IPython kernel.\n",
      "C:\\Users\\vichu\\ana3\\lib\\site-packages\\ipykernel_launcher.py:2: SettingWithCopyWarning: \n",
      "A value is trying to be set on a copy of a slice from a DataFrame.\n",
      "Try using .loc[row_indexer,col_indexer] = value instead\n",
      "\n",
      "See the caveats in the documentation: http://pandas.pydata.org/pandas-docs/stable/indexing.html#indexing-view-versus-copy\n",
      "  \n"
     ]
    }
   ],
   "source": [
    "X_train['custserv calls'] = X_train['custserv calls'].astype('int32')\n",
    "X_test['custserv calls'] = X_test['custserv calls'].astype('int32')"
   ]
  },
  {
   "cell_type": "code",
   "execution_count": 331,
   "metadata": {},
   "outputs": [
    {
     "data": {
      "text/plain": [
       "XGBRFClassifier(base_score=0.5, colsample_bylevel=1, colsample_bynode=0.8,\n",
       "                colsample_bytree=1, gamma=0, learning_rate=1, max_delta_step=0,\n",
       "                max_depth=3, min_child_weight=1, missing=None, n_estimators=500,\n",
       "                n_jobs=1, nthread=None, objective='binary:logistic',\n",
       "                random_state=0, reg_alpha=0, reg_lambda=1, scale_pos_weight=1,\n",
       "                seed=None, silent=None, subsample=0.8, verbosity=1)"
      ]
     },
     "execution_count": 331,
     "metadata": {},
     "output_type": "execute_result"
    }
   ],
   "source": [
    "xboo.fit(X_train,y_train)"
   ]
  },
  {
   "cell_type": "code",
   "execution_count": 332,
   "metadata": {},
   "outputs": [],
   "source": [
    "pred=xboo.predict(X_test)"
   ]
  },
  {
   "cell_type": "code",
   "execution_count": 328,
   "metadata": {},
   "outputs": [
    {
     "name": "stdout",
     "output_type": "stream",
     "text": [
      "[[708  10]\n",
      " [ 68  48]]\n"
     ]
    }
   ],
   "source": [
    "print(metrics.confusion_matrix(y_test,pred))"
   ]
  },
  {
   "cell_type": "code",
   "execution_count": 304,
   "metadata": {},
   "outputs": [],
   "source": [
    "from sklearn import linear_model"
   ]
  },
  {
   "cell_type": "code",
   "execution_count": 315,
   "metadata": {},
   "outputs": [],
   "source": [
    "lr=linear_model.LogisticRegression(max_iter=300)"
   ]
  },
  {
   "cell_type": "code",
   "execution_count": 316,
   "metadata": {},
   "outputs": [
    {
     "name": "stderr",
     "output_type": "stream",
     "text": [
      "C:\\Users\\vichu\\ana3\\lib\\site-packages\\sklearn\\linear_model\\logistic.py:432: FutureWarning: Default solver will be changed to 'lbfgs' in 0.22. Specify a solver to silence this warning.\n",
      "  FutureWarning)\n"
     ]
    },
    {
     "data": {
      "text/plain": [
       "LogisticRegression(C=1.0, class_weight=None, dual=False, fit_intercept=True,\n",
       "                   intercept_scaling=1, l1_ratio=None, max_iter=1000,\n",
       "                   multi_class='warn', n_jobs=None, penalty='l2',\n",
       "                   random_state=None, solver='warn', tol=0.0001, verbose=0,\n",
       "                   warm_start=False)"
      ]
     },
     "execution_count": 316,
     "metadata": {},
     "output_type": "execute_result"
    }
   ],
   "source": [
    "lr.fit(X_train,y_train)"
   ]
  },
  {
   "cell_type": "code",
   "execution_count": 317,
   "metadata": {},
   "outputs": [],
   "source": [
    "pred=lr.predict(X_test)"
   ]
  },
  {
   "cell_type": "code",
   "execution_count": 318,
   "metadata": {},
   "outputs": [
    {
     "name": "stdout",
     "output_type": "stream",
     "text": [
      "[[707  11]\n",
      " [104  12]]\n"
     ]
    }
   ],
   "source": [
    "print(metrics.confusion_matrix(y_test,pred))"
   ]
  },
  {
   "cell_type": "code",
   "execution_count": 319,
   "metadata": {},
   "outputs": [],
   "source": [
    "from sklearn import svm"
   ]
  },
  {
   "cell_type": "code",
   "execution_count": 320,
   "metadata": {},
   "outputs": [],
   "source": [
    "svc=svm.SVC()"
   ]
  },
  {
   "cell_type": "code",
   "execution_count": 321,
   "metadata": {},
   "outputs": [
    {
     "name": "stderr",
     "output_type": "stream",
     "text": [
      "C:\\Users\\vichu\\ana3\\lib\\site-packages\\sklearn\\svm\\base.py:193: FutureWarning: The default value of gamma will change from 'auto' to 'scale' in version 0.22 to account better for unscaled features. Set gamma explicitly to 'auto' or 'scale' to avoid this warning.\n",
      "  \"avoid this warning.\", FutureWarning)\n"
     ]
    },
    {
     "data": {
      "text/plain": [
       "SVC(C=1.0, cache_size=200, class_weight=None, coef0=0.0,\n",
       "    decision_function_shape='ovr', degree=3, gamma='auto_deprecated',\n",
       "    kernel='rbf', max_iter=-1, probability=False, random_state=None,\n",
       "    shrinking=True, tol=0.001, verbose=False)"
      ]
     },
     "execution_count": 321,
     "metadata": {},
     "output_type": "execute_result"
    }
   ],
   "source": [
    "svc.fit(X_train,y_train)"
   ]
  },
  {
   "cell_type": "code",
   "execution_count": 322,
   "metadata": {},
   "outputs": [],
   "source": [
    "pred=svc.predict(X_test)"
   ]
  },
  {
   "cell_type": "code",
   "execution_count": 323,
   "metadata": {},
   "outputs": [
    {
     "name": "stdout",
     "output_type": "stream",
     "text": [
      "[[718   0]\n",
      " [116   0]]\n"
     ]
    }
   ],
   "source": [
    "print(metrics.confusion_matrix(y_test,pred))"
   ]
  },
  {
   "cell_type": "code",
   "execution_count": 333,
   "metadata": {},
   "outputs": [
    {
     "data": {
      "text/plain": [
       "Index(['state', 'area code', 'phone', 'intl plan', 'vmail plan',\n",
       "       'custserv calls', 'churn'],\n",
       "      dtype='object')"
      ]
     },
     "execution_count": 333,
     "metadata": {},
     "output_type": "execute_result"
    }
   ],
   "source": [
    "cat_features"
   ]
  },
  {
   "cell_type": "code",
   "execution_count": 334,
   "metadata": {},
   "outputs": [],
   "source": [
    "df=pd.get_dummies(df,columns=['area code','intl plan', 'vmail plan','custserv calls'])"
   ]
  },
  {
   "cell_type": "code",
   "execution_count": 335,
   "metadata": {},
   "outputs": [
    {
     "data": {
      "text/html": [
       "<div>\n",
       "<style scoped>\n",
       "    .dataframe tbody tr th:only-of-type {\n",
       "        vertical-align: middle;\n",
       "    }\n",
       "\n",
       "    .dataframe tbody tr th {\n",
       "        vertical-align: top;\n",
       "    }\n",
       "\n",
       "    .dataframe thead th {\n",
       "        text-align: right;\n",
       "    }\n",
       "</style>\n",
       "<table border=\"1\" class=\"dataframe\">\n",
       "  <thead>\n",
       "    <tr style=\"text-align: right;\">\n",
       "      <th></th>\n",
       "      <th>index</th>\n",
       "      <th>state</th>\n",
       "      <th>account length</th>\n",
       "      <th>phone</th>\n",
       "      <th>vmail message</th>\n",
       "      <th>day mins</th>\n",
       "      <th>day calls</th>\n",
       "      <th>day charge</th>\n",
       "      <th>eve mins</th>\n",
       "      <th>eve calls</th>\n",
       "      <th>...</th>\n",
       "      <th>custserv calls_0</th>\n",
       "      <th>custserv calls_1</th>\n",
       "      <th>custserv calls_2</th>\n",
       "      <th>custserv calls_3</th>\n",
       "      <th>custserv calls_4</th>\n",
       "      <th>custserv calls_5</th>\n",
       "      <th>custserv calls_6</th>\n",
       "      <th>custserv calls_7</th>\n",
       "      <th>custserv calls_8</th>\n",
       "      <th>custserv calls_9</th>\n",
       "    </tr>\n",
       "  </thead>\n",
       "  <tbody>\n",
       "    <tr>\n",
       "      <th>0</th>\n",
       "      <td>0.0</td>\n",
       "      <td>16</td>\n",
       "      <td>128.0</td>\n",
       "      <td>382-4657</td>\n",
       "      <td>25.0</td>\n",
       "      <td>265.1</td>\n",
       "      <td>110.0</td>\n",
       "      <td>30.56588</td>\n",
       "      <td>197.4</td>\n",
       "      <td>99.0</td>\n",
       "      <td>...</td>\n",
       "      <td>0</td>\n",
       "      <td>1</td>\n",
       "      <td>0</td>\n",
       "      <td>0</td>\n",
       "      <td>0</td>\n",
       "      <td>0</td>\n",
       "      <td>0</td>\n",
       "      <td>0</td>\n",
       "      <td>0</td>\n",
       "      <td>0</td>\n",
       "    </tr>\n",
       "    <tr>\n",
       "      <th>1</th>\n",
       "      <td>1.0</td>\n",
       "      <td>35</td>\n",
       "      <td>107.0</td>\n",
       "      <td>371-7191</td>\n",
       "      <td>26.0</td>\n",
       "      <td>161.6</td>\n",
       "      <td>123.0</td>\n",
       "      <td>30.56588</td>\n",
       "      <td>195.5</td>\n",
       "      <td>103.0</td>\n",
       "      <td>...</td>\n",
       "      <td>0</td>\n",
       "      <td>1</td>\n",
       "      <td>0</td>\n",
       "      <td>0</td>\n",
       "      <td>0</td>\n",
       "      <td>0</td>\n",
       "      <td>0</td>\n",
       "      <td>0</td>\n",
       "      <td>0</td>\n",
       "      <td>0</td>\n",
       "    </tr>\n",
       "    <tr>\n",
       "      <th>2</th>\n",
       "      <td>2.0</td>\n",
       "      <td>31</td>\n",
       "      <td>137.0</td>\n",
       "      <td>358-1921</td>\n",
       "      <td>0.0</td>\n",
       "      <td>243.4</td>\n",
       "      <td>114.0</td>\n",
       "      <td>30.56588</td>\n",
       "      <td>121.2</td>\n",
       "      <td>110.0</td>\n",
       "      <td>...</td>\n",
       "      <td>1</td>\n",
       "      <td>0</td>\n",
       "      <td>0</td>\n",
       "      <td>0</td>\n",
       "      <td>0</td>\n",
       "      <td>0</td>\n",
       "      <td>0</td>\n",
       "      <td>0</td>\n",
       "      <td>0</td>\n",
       "      <td>0</td>\n",
       "    </tr>\n",
       "    <tr>\n",
       "      <th>3</th>\n",
       "      <td>3.0</td>\n",
       "      <td>35</td>\n",
       "      <td>84.0</td>\n",
       "      <td>375-9999</td>\n",
       "      <td>0.0</td>\n",
       "      <td>299.4</td>\n",
       "      <td>71.0</td>\n",
       "      <td>50.90000</td>\n",
       "      <td>61.9</td>\n",
       "      <td>88.0</td>\n",
       "      <td>...</td>\n",
       "      <td>0</td>\n",
       "      <td>0</td>\n",
       "      <td>1</td>\n",
       "      <td>0</td>\n",
       "      <td>0</td>\n",
       "      <td>0</td>\n",
       "      <td>0</td>\n",
       "      <td>0</td>\n",
       "      <td>0</td>\n",
       "      <td>0</td>\n",
       "    </tr>\n",
       "    <tr>\n",
       "      <th>4</th>\n",
       "      <td>4.0</td>\n",
       "      <td>36</td>\n",
       "      <td>75.0</td>\n",
       "      <td>330-6626</td>\n",
       "      <td>0.0</td>\n",
       "      <td>166.7</td>\n",
       "      <td>113.0</td>\n",
       "      <td>28.34000</td>\n",
       "      <td>148.3</td>\n",
       "      <td>122.0</td>\n",
       "      <td>...</td>\n",
       "      <td>0</td>\n",
       "      <td>0</td>\n",
       "      <td>0</td>\n",
       "      <td>1</td>\n",
       "      <td>0</td>\n",
       "      <td>0</td>\n",
       "      <td>0</td>\n",
       "      <td>0</td>\n",
       "      <td>0</td>\n",
       "      <td>0</td>\n",
       "    </tr>\n",
       "  </tbody>\n",
       "</table>\n",
       "<p>5 rows × 35 columns</p>\n",
       "</div>"
      ],
      "text/plain": [
       "   index  state  account length     phone  vmail message  day mins  day calls  \\\n",
       "0    0.0     16           128.0  382-4657           25.0     265.1      110.0   \n",
       "1    1.0     35           107.0  371-7191           26.0     161.6      123.0   \n",
       "2    2.0     31           137.0  358-1921            0.0     243.4      114.0   \n",
       "3    3.0     35            84.0  375-9999            0.0     299.4       71.0   \n",
       "4    4.0     36            75.0  330-6626            0.0     166.7      113.0   \n",
       "\n",
       "   day charge  eve mins  eve calls  ...  custserv calls_0  custserv calls_1  \\\n",
       "0    30.56588     197.4       99.0  ...                 0                 1   \n",
       "1    30.56588     195.5      103.0  ...                 0                 1   \n",
       "2    30.56588     121.2      110.0  ...                 1                 0   \n",
       "3    50.90000      61.9       88.0  ...                 0                 0   \n",
       "4    28.34000     148.3      122.0  ...                 0                 0   \n",
       "\n",
       "   custserv calls_2  custserv calls_3  custserv calls_4  custserv calls_5  \\\n",
       "0                 0                 0                 0                 0   \n",
       "1                 0                 0                 0                 0   \n",
       "2                 0                 0                 0                 0   \n",
       "3                 1                 0                 0                 0   \n",
       "4                 0                 1                 0                 0   \n",
       "\n",
       "   custserv calls_6  custserv calls_7  custserv calls_8  custserv calls_9  \n",
       "0                 0                 0                 0                 0  \n",
       "1                 0                 0                 0                 0  \n",
       "2                 0                 0                 0                 0  \n",
       "3                 0                 0                 0                 0  \n",
       "4                 0                 0                 0                 0  \n",
       "\n",
       "[5 rows x 35 columns]"
      ]
     },
     "execution_count": 335,
     "metadata": {},
     "output_type": "execute_result"
    }
   ],
   "source": [
    "df.head()"
   ]
  },
  {
   "cell_type": "code",
   "execution_count": 337,
   "metadata": {},
   "outputs": [
    {
     "data": {
      "text/plain": [
       "Index(['index', 'state', 'account length', 'phone', 'vmail message',\n",
       "       'day mins', 'day calls', 'day charge', 'eve mins', 'eve calls',\n",
       "       'eve charge', 'night mins', 'night calls', 'night charge', 'intl mins',\n",
       "       'intl calls', 'intl charge', 'churn', 'area code_0', 'area code_1',\n",
       "       'area code_2', 'intl plan_0', 'intl plan_1', 'vmail plan_0',\n",
       "       'vmail plan_1', 'custserv calls_0', 'custserv calls_1',\n",
       "       'custserv calls_2', 'custserv calls_3', 'custserv calls_4',\n",
       "       'custserv calls_5', 'custserv calls_6', 'custserv calls_7',\n",
       "       'custserv calls_8', 'custserv calls_9'],\n",
       "      dtype='object')"
      ]
     },
     "execution_count": 337,
     "metadata": {},
     "output_type": "execute_result"
    }
   ],
   "source": [
    "df.columns"
   ]
  },
  {
   "cell_type": "code",
   "execution_count": 338,
   "metadata": {},
   "outputs": [],
   "source": [
    "X=df.drop(['index','phone','vmail message','churn'],axis=1)"
   ]
  },
  {
   "cell_type": "code",
   "execution_count": 339,
   "metadata": {},
   "outputs": [
    {
     "data": {
      "text/html": [
       "<div>\n",
       "<style scoped>\n",
       "    .dataframe tbody tr th:only-of-type {\n",
       "        vertical-align: middle;\n",
       "    }\n",
       "\n",
       "    .dataframe tbody tr th {\n",
       "        vertical-align: top;\n",
       "    }\n",
       "\n",
       "    .dataframe thead th {\n",
       "        text-align: right;\n",
       "    }\n",
       "</style>\n",
       "<table border=\"1\" class=\"dataframe\">\n",
       "  <thead>\n",
       "    <tr style=\"text-align: right;\">\n",
       "      <th></th>\n",
       "      <th>state</th>\n",
       "      <th>account length</th>\n",
       "      <th>day mins</th>\n",
       "      <th>day calls</th>\n",
       "      <th>day charge</th>\n",
       "      <th>eve mins</th>\n",
       "      <th>eve calls</th>\n",
       "      <th>eve charge</th>\n",
       "      <th>night mins</th>\n",
       "      <th>night calls</th>\n",
       "      <th>...</th>\n",
       "      <th>custserv calls_0</th>\n",
       "      <th>custserv calls_1</th>\n",
       "      <th>custserv calls_2</th>\n",
       "      <th>custserv calls_3</th>\n",
       "      <th>custserv calls_4</th>\n",
       "      <th>custserv calls_5</th>\n",
       "      <th>custserv calls_6</th>\n",
       "      <th>custserv calls_7</th>\n",
       "      <th>custserv calls_8</th>\n",
       "      <th>custserv calls_9</th>\n",
       "    </tr>\n",
       "  </thead>\n",
       "  <tbody>\n",
       "    <tr>\n",
       "      <th>0</th>\n",
       "      <td>16</td>\n",
       "      <td>128.0</td>\n",
       "      <td>265.1</td>\n",
       "      <td>110.0</td>\n",
       "      <td>30.56588</td>\n",
       "      <td>197.4</td>\n",
       "      <td>99.0</td>\n",
       "      <td>16.78</td>\n",
       "      <td>244.7</td>\n",
       "      <td>91.0</td>\n",
       "      <td>...</td>\n",
       "      <td>0</td>\n",
       "      <td>1</td>\n",
       "      <td>0</td>\n",
       "      <td>0</td>\n",
       "      <td>0</td>\n",
       "      <td>0</td>\n",
       "      <td>0</td>\n",
       "      <td>0</td>\n",
       "      <td>0</td>\n",
       "      <td>0</td>\n",
       "    </tr>\n",
       "    <tr>\n",
       "      <th>1</th>\n",
       "      <td>35</td>\n",
       "      <td>107.0</td>\n",
       "      <td>161.6</td>\n",
       "      <td>123.0</td>\n",
       "      <td>30.56588</td>\n",
       "      <td>195.5</td>\n",
       "      <td>103.0</td>\n",
       "      <td>16.62</td>\n",
       "      <td>254.4</td>\n",
       "      <td>103.0</td>\n",
       "      <td>...</td>\n",
       "      <td>0</td>\n",
       "      <td>1</td>\n",
       "      <td>0</td>\n",
       "      <td>0</td>\n",
       "      <td>0</td>\n",
       "      <td>0</td>\n",
       "      <td>0</td>\n",
       "      <td>0</td>\n",
       "      <td>0</td>\n",
       "      <td>0</td>\n",
       "    </tr>\n",
       "    <tr>\n",
       "      <th>2</th>\n",
       "      <td>31</td>\n",
       "      <td>137.0</td>\n",
       "      <td>243.4</td>\n",
       "      <td>114.0</td>\n",
       "      <td>30.56588</td>\n",
       "      <td>121.2</td>\n",
       "      <td>110.0</td>\n",
       "      <td>10.30</td>\n",
       "      <td>162.6</td>\n",
       "      <td>104.0</td>\n",
       "      <td>...</td>\n",
       "      <td>1</td>\n",
       "      <td>0</td>\n",
       "      <td>0</td>\n",
       "      <td>0</td>\n",
       "      <td>0</td>\n",
       "      <td>0</td>\n",
       "      <td>0</td>\n",
       "      <td>0</td>\n",
       "      <td>0</td>\n",
       "      <td>0</td>\n",
       "    </tr>\n",
       "    <tr>\n",
       "      <th>3</th>\n",
       "      <td>35</td>\n",
       "      <td>84.0</td>\n",
       "      <td>299.4</td>\n",
       "      <td>71.0</td>\n",
       "      <td>50.90000</td>\n",
       "      <td>61.9</td>\n",
       "      <td>88.0</td>\n",
       "      <td>5.26</td>\n",
       "      <td>196.9</td>\n",
       "      <td>89.0</td>\n",
       "      <td>...</td>\n",
       "      <td>0</td>\n",
       "      <td>0</td>\n",
       "      <td>1</td>\n",
       "      <td>0</td>\n",
       "      <td>0</td>\n",
       "      <td>0</td>\n",
       "      <td>0</td>\n",
       "      <td>0</td>\n",
       "      <td>0</td>\n",
       "      <td>0</td>\n",
       "    </tr>\n",
       "    <tr>\n",
       "      <th>4</th>\n",
       "      <td>36</td>\n",
       "      <td>75.0</td>\n",
       "      <td>166.7</td>\n",
       "      <td>113.0</td>\n",
       "      <td>28.34000</td>\n",
       "      <td>148.3</td>\n",
       "      <td>122.0</td>\n",
       "      <td>12.61</td>\n",
       "      <td>186.9</td>\n",
       "      <td>121.0</td>\n",
       "      <td>...</td>\n",
       "      <td>0</td>\n",
       "      <td>0</td>\n",
       "      <td>0</td>\n",
       "      <td>1</td>\n",
       "      <td>0</td>\n",
       "      <td>0</td>\n",
       "      <td>0</td>\n",
       "      <td>0</td>\n",
       "      <td>0</td>\n",
       "      <td>0</td>\n",
       "    </tr>\n",
       "  </tbody>\n",
       "</table>\n",
       "<p>5 rows × 31 columns</p>\n",
       "</div>"
      ],
      "text/plain": [
       "   state  account length  day mins  day calls  day charge  eve mins  \\\n",
       "0     16           128.0     265.1      110.0    30.56588     197.4   \n",
       "1     35           107.0     161.6      123.0    30.56588     195.5   \n",
       "2     31           137.0     243.4      114.0    30.56588     121.2   \n",
       "3     35            84.0     299.4       71.0    50.90000      61.9   \n",
       "4     36            75.0     166.7      113.0    28.34000     148.3   \n",
       "\n",
       "   eve calls  eve charge  night mins  night calls  ...  custserv calls_0  \\\n",
       "0       99.0       16.78       244.7         91.0  ...                 0   \n",
       "1      103.0       16.62       254.4        103.0  ...                 0   \n",
       "2      110.0       10.30       162.6        104.0  ...                 1   \n",
       "3       88.0        5.26       196.9         89.0  ...                 0   \n",
       "4      122.0       12.61       186.9        121.0  ...                 0   \n",
       "\n",
       "   custserv calls_1  custserv calls_2  custserv calls_3  custserv calls_4  \\\n",
       "0                 1                 0                 0                 0   \n",
       "1                 1                 0                 0                 0   \n",
       "2                 0                 0                 0                 0   \n",
       "3                 0                 1                 0                 0   \n",
       "4                 0                 0                 1                 0   \n",
       "\n",
       "   custserv calls_5  custserv calls_6  custserv calls_7  custserv calls_8  \\\n",
       "0                 0                 0                 0                 0   \n",
       "1                 0                 0                 0                 0   \n",
       "2                 0                 0                 0                 0   \n",
       "3                 0                 0                 0                 0   \n",
       "4                 0                 0                 0                 0   \n",
       "\n",
       "   custserv calls_9  \n",
       "0                 0  \n",
       "1                 0  \n",
       "2                 0  \n",
       "3                 0  \n",
       "4                 0  \n",
       "\n",
       "[5 rows x 31 columns]"
      ]
     },
     "execution_count": 339,
     "metadata": {},
     "output_type": "execute_result"
    }
   ],
   "source": [
    "X.head()"
   ]
  },
  {
   "cell_type": "code",
   "execution_count": 340,
   "metadata": {},
   "outputs": [
    {
     "name": "stdout",
     "output_type": "stream",
     "text": [
      "KFold(n_splits=10, random_state=None, shuffle=False)\n"
     ]
    },
    {
     "name": "stderr",
     "output_type": "stream",
     "text": [
      "C:\\Users\\vichu\\ana3\\lib\\site-packages\\sklearn\\ensemble\\forest.py:245: FutureWarning: The default value of n_estimators will change from 10 in version 0.20 to 100 in 0.22.\n",
      "  \"10 in version 0.20 to 100 in 0.22.\", FutureWarning)\n"
     ]
    }
   ],
   "source": [
    "from sklearn.model_selection import KFold \n",
    "#kf = KFold(n_splits=5, random_state=None) \n",
    "scores=[]\n",
    "kf = KFold(n_splits=10)\n",
    "kf.get_n_splits(X)\n",
    "print(kf)  \n",
    "#KFold(n_splits=2, random_state=None, shuffle=False)\n",
    "for test_index, train_index in kf.split(X):\n",
    "    #print(\"TRAIN:\", train_index, \"TEST:\", test_index)\n",
    "    X_train, X_test = X.iloc[train_index], X.iloc[test_index]\n",
    "    y_train, y_test = y.iloc[train_index], y.iloc[test_index]\n",
    "    rf.fit(X_train, y_train)\n",
    "    scores.append(rf.score(X_test, y_test))"
   ]
  },
  {
   "cell_type": "code",
   "execution_count": 343,
   "metadata": {},
   "outputs": [
    {
     "name": "stdout",
     "output_type": "stream",
     "text": [
      "0.8698534066911193\n"
     ]
    }
   ],
   "source": [
    "print(np.mean(scores))"
   ]
  },
  {
   "cell_type": "code",
   "execution_count": 342,
   "metadata": {},
   "outputs": [],
   "source": [
    "from sklearn import model_selection\n",
    "score=[]\n",
    "score=model_selection.cross_val_score(rf, X, y, cv=10,scoring='accuracy')"
   ]
  },
  {
   "cell_type": "code",
   "execution_count": 344,
   "metadata": {},
   "outputs": [
    {
     "name": "stdout",
     "output_type": "stream",
     "text": [
      "0.9264938591285897\n"
     ]
    }
   ],
   "source": [
    "print(np.mean(score))"
   ]
  },
  {
   "cell_type": "code",
   "execution_count": 383,
   "metadata": {},
   "outputs": [],
   "source": [
    "xg_grid={'n_estimators':range(50,500,50)}"
   ]
  },
  {
   "cell_type": "code",
   "execution_count": 387,
   "metadata": {},
   "outputs": [],
   "source": [
    "gv_xgb=GridSearchCV(xboo,xg_grid,cv=10)"
   ]
  },
  {
   "cell_type": "code",
   "execution_count": 391,
   "metadata": {},
   "outputs": [
    {
     "data": {
      "text/plain": [
       "GridSearchCV(cv=10, error_score='raise-deprecating',\n",
       "             estimator=XGBRFClassifier(base_score=0.5, colsample_bylevel=1,\n",
       "                                       colsample_bynode=0.8, colsample_bytree=1,\n",
       "                                       gamma=0, learning_rate=1,\n",
       "                                       max_delta_step=0, max_depth=3,\n",
       "                                       min_child_weight=1, missing=None,\n",
       "                                       n_estimators=100, n_jobs=1, nthread=None,\n",
       "                                       objective='binary:logistic',\n",
       "                                       random_state=0, reg_alpha=0,\n",
       "                                       reg_lambda=1, scale_pos_weight=1,\n",
       "                                       seed=None, silent=None, subsample=0.8,\n",
       "                                       verbosity=1),\n",
       "             iid='warn', n_jobs=None,\n",
       "             param_grid={'n_estimators': range(50, 500, 50)},\n",
       "             pre_dispatch='2*n_jobs', refit=True, return_train_score=False,\n",
       "             scoring=None, verbose=0)"
      ]
     },
     "execution_count": 391,
     "metadata": {},
     "output_type": "execute_result"
    }
   ],
   "source": [
    "gv_xgb.fit(X_train,y_train)"
   ]
  },
  {
   "cell_type": "code",
   "execution_count": 392,
   "metadata": {},
   "outputs": [
    {
     "name": "stdout",
     "output_type": "stream",
     "text": [
      "{'n_estimators': 100}\n"
     ]
    }
   ],
   "source": [
    "print(gv_xgb.best_params_)"
   ]
  },
  {
   "cell_type": "code",
   "execution_count": 393,
   "metadata": {},
   "outputs": [],
   "source": [
    "xg_grid1={'max_depth':range(5,16,2), 'min_samples_split':range(200,1001,200)}"
   ]
  },
  {
   "cell_type": "code",
   "execution_count": 432,
   "metadata": {},
   "outputs": [],
   "source": [
    "xboo=xgb.XGBRFClassifier(learning_rate=0.95,n_estimators=1200,n_jobs=-1,max_depth=7,min_samples_leaf=30, min_samples_split=1000,max_features=7,subsample=0.6)"
   ]
  },
  {
   "cell_type": "code",
   "execution_count": 398,
   "metadata": {},
   "outputs": [],
   "source": [
    "gv_xgb=GridSearchCV(xboo,xg_grid1,cv=10)"
   ]
  },
  {
   "cell_type": "code",
   "execution_count": 399,
   "metadata": {},
   "outputs": [
    {
     "data": {
      "text/plain": [
       "GridSearchCV(cv=10, error_score='raise-deprecating',\n",
       "             estimator=XGBRFClassifier(base_score=0.5, colsample_bylevel=1,\n",
       "                                       colsample_bynode=0.8, colsample_bytree=1,\n",
       "                                       gamma=0, learning_rate=1,\n",
       "                                       max_delta_step=0, max_depth=3,\n",
       "                                       min_child_weight=1, missing=None,\n",
       "                                       n_estimators=100, n_jobs=-1,\n",
       "                                       nthread=None,\n",
       "                                       objective='binary:logistic',\n",
       "                                       random_state=0, reg_alpha=0,\n",
       "                                       reg_lambda=1, scale_pos_weight=1,\n",
       "                                       seed=None, silent=None, subsample=0.8,\n",
       "                                       verbosity=1),\n",
       "             iid='warn', n_jobs=None,\n",
       "             param_grid={'max_depth': range(5, 16, 2),\n",
       "                         'min_samples_split': range(200, 1001, 200)},\n",
       "             pre_dispatch='2*n_jobs', refit=True, return_train_score=False,\n",
       "             scoring=None, verbose=0)"
      ]
     },
     "execution_count": 399,
     "metadata": {},
     "output_type": "execute_result"
    }
   ],
   "source": [
    "gv_xgb.fit(X_train,y_train)"
   ]
  },
  {
   "cell_type": "code",
   "execution_count": 400,
   "metadata": {},
   "outputs": [
    {
     "name": "stdout",
     "output_type": "stream",
     "text": [
      "{'max_depth': 7, 'min_samples_split': 200}\n"
     ]
    }
   ],
   "source": [
    "print(gv_xgb.best_params_)"
   ]
  },
  {
   "cell_type": "code",
   "execution_count": 412,
   "metadata": {},
   "outputs": [],
   "source": [
    "xg_grid2={'subsample':[0.6,0.7,0.75,0.8,0.85,0.9]}"
   ]
  },
  {
   "cell_type": "code",
   "execution_count": 413,
   "metadata": {},
   "outputs": [],
   "source": [
    "gv_xgb=GridSearchCV(xboo,xg_grid2,cv=10)"
   ]
  },
  {
   "cell_type": "code",
   "execution_count": 414,
   "metadata": {},
   "outputs": [
    {
     "data": {
      "text/plain": [
       "GridSearchCV(cv=10, error_score='raise-deprecating',\n",
       "             estimator=XGBRFClassifier(base_score=0.5, colsample_bylevel=1,\n",
       "                                       colsample_bynode=0.8, colsample_bytree=1,\n",
       "                                       gamma=0, learning_rate=1,\n",
       "                                       max_delta_step=0, max_depth=7,\n",
       "                                       max_features=7, min_child_weight=1,\n",
       "                                       min_samples_leaf=30,\n",
       "                                       min_samples_split=1000, missing=None,\n",
       "                                       n_estimators=100, n_jobs=-1,\n",
       "                                       nthread=None,\n",
       "                                       objective='binary:logistic',\n",
       "                                       random_state=0, reg_alpha=0,\n",
       "                                       reg_lambda=1, scale_pos_weight=1,\n",
       "                                       seed=None, silent=None, subsample=0.8,\n",
       "                                       verbosity=1),\n",
       "             iid='warn', n_jobs=None,\n",
       "             param_grid={'subsample': [0.6, 0.7, 0.75, 0.8, 0.85, 0.9]},\n",
       "             pre_dispatch='2*n_jobs', refit=True, return_train_score=False,\n",
       "             scoring=None, verbose=0)"
      ]
     },
     "execution_count": 414,
     "metadata": {},
     "output_type": "execute_result"
    }
   ],
   "source": [
    "gv_xgb.fit(X_train,y_train)"
   ]
  },
  {
   "cell_type": "code",
   "execution_count": 415,
   "metadata": {},
   "outputs": [
    {
     "name": "stdout",
     "output_type": "stream",
     "text": [
      "{'subsample': 0.6}\n"
     ]
    }
   ],
   "source": [
    "print(gv_xgb.best_params_)"
   ]
  },
  {
   "cell_type": "code",
   "execution_count": 418,
   "metadata": {},
   "outputs": [
    {
     "data": {
      "text/plain": [
       "XGBRFClassifier(base_score=0.5, colsample_bylevel=1, colsample_bynode=0.8,\n",
       "                colsample_bytree=1, gamma=0, learning_rate=0.5,\n",
       "                max_delta_step=0, max_depth=7, max_features=7,\n",
       "                min_child_weight=1, min_samples_leaf=30, min_samples_split=1000,\n",
       "                missing=None, n_estimators=200, n_jobs=-1, nthread=None,\n",
       "                objective='binary:logistic', random_state=0, reg_alpha=0,\n",
       "                reg_lambda=1, scale_pos_weight=1, seed=None, silent=None,\n",
       "                subsample=0.6, verbosity=1)"
      ]
     },
     "execution_count": 418,
     "metadata": {},
     "output_type": "execute_result"
    }
   ],
   "source": [
    "xboo.fit(X_train,y_train)"
   ]
  },
  {
   "cell_type": "code",
   "execution_count": 419,
   "metadata": {},
   "outputs": [],
   "source": [
    "pred=xboo.predict(X_test)"
   ]
  },
  {
   "cell_type": "code",
   "execution_count": 420,
   "metadata": {},
   "outputs": [],
   "source": [
    "acc=metrics.accuracy_score(y_test,pred)"
   ]
  },
  {
   "cell_type": "code",
   "execution_count": 421,
   "metadata": {},
   "outputs": [
    {
     "name": "stdout",
     "output_type": "stream",
     "text": [
      "0.9448441247002398\n"
     ]
    }
   ],
   "source": [
    "print(acc)"
   ]
  },
  {
   "cell_type": "code",
   "execution_count": 422,
   "metadata": {},
   "outputs": [
    {
     "name": "stdout",
     "output_type": "stream",
     "text": [
      "[[712   6]\n",
      " [ 40  76]]\n"
     ]
    }
   ],
   "source": [
    "print(metrics.confusion_matrix(y_test,pred))"
   ]
  },
  {
   "cell_type": "code",
   "execution_count": 423,
   "metadata": {},
   "outputs": [
    {
     "data": {
      "text/plain": [
       "<matplotlib.axes._subplots.AxesSubplot at 0x1f6d8d5f898>"
      ]
     },
     "execution_count": 423,
     "metadata": {},
     "output_type": "execute_result"
    },
    {
     "data": {
      "image/png": "[encoded data removed]",
      "text/plain": [
       "<Figure size 648x432 with 2 Axes>"
      ]
     },
     "metadata": {
      "needs_background": "light"
     },
     "output_type": "display_data"
    }
   ],
   "source": [
    "matrix = df.corr() \n",
    "f, ax = plt.subplots(figsize=(9, 6)) \n",
    "sns.heatmap(matrix, vmax=.8, square=True, cmap=\"BuPu\")"
   ]
  },
  {
   "cell_type": "code",
   "execution_count": 424,
   "metadata": {},
   "outputs": [
    {
     "name": "stdout",
     "output_type": "stream",
     "text": [
      "day charge and eve calls = 0.99\n",
      "vmail message and day calls = 0.98\n",
      "eve charge and night calls = 0.96\n",
      "night charge and intl calls = 0.95\n",
      "intl plan and vmail plan = 0.88\n"
     ]
    }
   ],
   "source": [
    "size =20\n",
    "\n",
    "#create a dataframe with only 'size' features\n",
    "data=df.iloc[:,:size] \n",
    "\n",
    "#get the names of all the columns\n",
    "cols=df.columns \n",
    "\n",
    "# Calculates pearson co-efficient for all combinations\n",
    "data_corr = df.corr()\n",
    "\n",
    "# Set the threshold to select only only highly correlated attributes\n",
    "threshold = 0.5\n",
    "\n",
    "# List of pairs along with correlation above threshold\n",
    "corr_list = []\n",
    "\n",
    "#Search for the highly correlated pairs\n",
    "for i in range(0,size): #for 'size' features\n",
    "    for j in range(i+1,size): #avoid repetition\n",
    "        if (data_corr.iloc[i,j] >= threshold and data_corr.iloc[i,j] < 1) or (data_corr.iloc[i,j] < 0 and data_corr.iloc[i,j] <= -threshold):\n",
    "            corr_list.append([data_corr.iloc[i,j],i,j]) #store correlation and columns index\n",
    "\n",
    "#Sort to show higher ones first            \n",
    "s_corr_list = sorted(corr_list,key=lambda x: -abs(x[0]))\n",
    "\n",
    "#Print correlations and column names\n",
    "for v,i,j in s_corr_list:\n",
    "    print (\"%s and %s = %.2f\" % (cols[i],cols[j],v))"
   ]
  },
  {
   "cell_type": "code",
   "execution_count": 474,
   "metadata": {},
   "outputs": [],
   "source": [
    "xboo=xgb.XGBRFClassifier(learning_rate=0.01,n_estimators=1200,n_jobs=-1,max_depth=9,min_samples_leaf=50, min_samples_split=1000,max_features=5,subsample=0.6)"
   ]
  },
  {
   "cell_type": "code",
   "execution_count": 475,
   "metadata": {},
   "outputs": [
    {
     "name": "stdout",
     "output_type": "stream",
     "text": [
      "KFold(n_splits=10, random_state=None, shuffle=False)\n"
     ]
    }
   ],
   "source": [
    "from sklearn.model_selection import KFold \n",
    "#kf = KFold(n_splits=5, random_state=None) \n",
    "scores=[]\n",
    "kf = KFold(n_splits=10)\n",
    "kf.get_n_splits(X)\n",
    "print(kf)  \n",
    "#KFold(n_splits=2, random_state=None, shuffle=False)\n",
    "for test_index, train_index in kf.split(X):\n",
    "    #print(\"TRAIN:\", train_index, \"TEST:\", test_index)\n",
    "    X_train, X_test = X.iloc[train_index], X.iloc[test_index]\n",
    "    y_train, y_test = y.iloc[train_index], y.iloc[test_index]\n",
    "    xboo.fit(X_train, y_train)\n",
    "    scores.append(xboo.score(X_test, y_test))\n",
    "    "
   ]
  },
  {
   "cell_type": "code",
   "execution_count": 476,
   "metadata": {},
   "outputs": [
    {
     "name": "stdout",
     "output_type": "stream",
     "text": [
      "0.8878884072468601\n"
     ]
    }
   ],
   "source": [
    "print(np.mean(scores))"
   ]
  },
  {
   "cell_type": "code",
   "execution_count": 477,
   "metadata": {},
   "outputs": [
    {
     "name": "stdout",
     "output_type": "stream",
     "text": [
      "\n",
      "1 of kfold 10\n",
      "accuracy_score 0.9520958083832335\n",
      "matrix [[283   2]\n",
      " [ 14  35]]\n",
      "f1 0.813953488372093\n",
      "pres 0.9459459459459459\n",
      "rec 0.7142857142857143\n",
      "\n",
      "2 of kfold 10\n",
      "accuracy_score 0.9461077844311377\n",
      "matrix [[281   4]\n",
      " [ 14  35]]\n",
      "f1 0.7954545454545455\n",
      "pres 0.8974358974358975\n",
      "rec 0.7142857142857143\n",
      "\n",
      "3 of kfold 10\n",
      "accuracy_score 0.9580838323353293\n",
      "matrix [[284   1]\n",
      " [ 13  36]]\n",
      "f1 0.8372093023255813\n",
      "pres 0.972972972972973\n",
      "rec 0.7346938775510204\n",
      "\n",
      "4 of kfold 10\n",
      "accuracy_score 0.933933933933934\n",
      "matrix [[282   3]\n",
      " [ 19  29]]\n",
      "f1 0.725\n",
      "pres 0.90625\n",
      "rec 0.6041666666666666\n",
      "\n",
      "5 of kfold 10\n",
      "accuracy_score 0.954954954954955\n",
      "matrix [[285   0]\n",
      " [ 15  33]]\n",
      "f1 0.8148148148148148\n",
      "pres 1.0\n",
      "rec 0.6875\n",
      "\n",
      "6 of kfold 10\n",
      "accuracy_score 0.954954954954955\n",
      "matrix [[283   2]\n",
      " [ 13  35]]\n",
      "f1 0.8235294117647058\n",
      "pres 0.9459459459459459\n",
      "rec 0.7291666666666666\n",
      "\n",
      "7 of kfold 10\n",
      "accuracy_score 0.924924924924925\n",
      "matrix [[280   5]\n",
      " [ 20  28]]\n",
      "f1 0.691358024691358\n",
      "pres 0.8484848484848485\n",
      "rec 0.5833333333333334\n",
      "\n",
      "8 of kfold 10\n",
      "accuracy_score 0.9579579579579579\n",
      "matrix [[284   1]\n",
      " [ 13  35]]\n",
      "f1 0.8333333333333333\n",
      "pres 0.9722222222222222\n",
      "rec 0.7291666666666666\n",
      "\n",
      "9 of kfold 10\n",
      "accuracy_score 0.9459459459459459\n",
      "matrix [[284   1]\n",
      " [ 17  31]]\n",
      "f1 0.775\n",
      "pres 0.96875\n",
      "rec 0.6458333333333334\n",
      "\n",
      "10 of kfold 10\n",
      "accuracy_score 0.933933933933934\n",
      "matrix [[282   3]\n",
      " [ 19  29]]\n",
      "f1 0.725\n",
      "pres 0.90625\n",
      "rec 0.6041666666666666\n"
     ]
    }
   ],
   "source": [
    "from sklearn import ensemble,tree\n",
    "from sklearn.model_selection import StratifiedKFold\n",
    "from sklearn.metrics import accuracy_score,confusion_matrix,f1_score,precision_score,recall_score\n",
    "import xgboost as xgb\n",
    "from sklearn import linear_model\n",
    "from sklearn import model_selection\n",
    "i=1 \n",
    "scores=[]\n",
    "kf = StratifiedKFold(n_splits=10,random_state=1,shuffle=True) \n",
    "for train_index,test_index in kf.split(X,y):     \n",
    "    print('\\n{} of kfold {}'.format(i,kf.n_splits))    \n",
    "    xtr,xvl = X.loc[train_index],X.loc[test_index]     \n",
    "    ytr,yvl = y[train_index],y[test_index]         \n",
    "    model1=xgb.XGBClassifier(learning_rate=0.01,n_estimators=1200,n_jobs=-1,max_depth=9,min_samples_leaf=50, min_samples_split=1000,max_features=5,subsample=0.6,random_state=42)\n",
    "    #grid={'learning_rate':[0.1,1,0.5,0.75]}\n",
    "    #estimator=model_selection.RandomizedSearchCV(model1,grid,random_state=42,n_jobs=-1,scoring='f1',cv=10)\n",
    "    model1.fit(xtr, ytr)     \n",
    "    pred_test1 =model1.predict(xvl)    \n",
    "    score = accuracy_score(yvl,pred_test1)\n",
    "    scores.append(xboo.score(X_test, y_test))\n",
    "    matrix=confusion_matrix(yvl,pred_test1)\n",
    "    f1=f1_score(yvl,pred_test1)\n",
    "    p=precision_score(yvl,pred_test1)\n",
    "    r=recall_score(yvl,pred_test1)\n",
    "    print('accuracy_score',score)\n",
    "    print('matrix',matrix)\n",
    "    print('f1',f1)\n",
    "    print('pres',p)\n",
    "    print('rec',r)\n",
    "    i+=1"
   ]
  },
  {
   "cell_type": "code",
   "execution_count": 484,
   "metadata": {},
   "outputs": [],
   "source": [
    "X=df.drop(['index','phone','vmail message','churn','intl calls'],axis=1)\n",
    "X['custserv calls'] = X['custserv calls'].astype('int32')"
   ]
  },
  {
   "cell_type": "code",
   "execution_count": 487,
   "metadata": {},
   "outputs": [
    {
     "name": "stdout",
     "output_type": "stream",
     "text": [
      "\n",
      "1 of kfold 10\n",
      "accuracy_score 0.937125748502994\n",
      "matrix [[284   1]\n",
      " [ 20  29]]\n",
      "f1 0.7341772151898733\n",
      "pres 0.9666666666666667\n",
      "rec 0.5918367346938775\n",
      "\n",
      "2 of kfold 10\n",
      "accuracy_score 0.9311377245508982\n",
      "matrix [[282   3]\n",
      " [ 20  29]]\n",
      "f1 0.7160493827160493\n",
      "pres 0.90625\n",
      "rec 0.5918367346938775\n",
      "\n",
      "3 of kfold 10\n",
      "accuracy_score 0.9341317365269461\n",
      "matrix [[282   3]\n",
      " [ 19  30]]\n",
      "f1 0.7317073170731708\n",
      "pres 0.9090909090909091\n",
      "rec 0.6122448979591837\n",
      "\n",
      "4 of kfold 10\n",
      "accuracy_score 0.9309309309309309\n",
      "matrix [[282   3]\n",
      " [ 20  28]]\n",
      "f1 0.7088607594936709\n",
      "pres 0.9032258064516129\n",
      "rec 0.5833333333333334\n",
      "\n",
      "5 of kfold 10\n",
      "accuracy_score 0.948948948948949\n",
      "matrix [[284   1]\n",
      " [ 16  32]]\n",
      "f1 0.7901234567901234\n",
      "pres 0.9696969696969697\n",
      "rec 0.6666666666666666\n",
      "\n",
      "6 of kfold 10\n",
      "accuracy_score 0.9429429429429429\n",
      "matrix [[283   2]\n",
      " [ 17  31]]\n",
      "f1 0.7654320987654321\n",
      "pres 0.9393939393939394\n",
      "rec 0.6458333333333334\n",
      "\n",
      "7 of kfold 10\n",
      "accuracy_score 0.9159159159159159\n",
      "matrix [[279   6]\n",
      " [ 22  26]]\n",
      "f1 0.65\n",
      "pres 0.8125\n",
      "rec 0.5416666666666666\n",
      "\n",
      "8 of kfold 10\n",
      "accuracy_score 0.9519519519519519\n",
      "matrix [[284   1]\n",
      " [ 15  33]]\n",
      "f1 0.8048780487804877\n",
      "pres 0.9705882352941176\n",
      "rec 0.6875\n",
      "\n",
      "9 of kfold 10\n",
      "accuracy_score 0.9309309309309309\n",
      "matrix [[282   3]\n",
      " [ 20  28]]\n",
      "f1 0.7088607594936709\n",
      "pres 0.9032258064516129\n",
      "rec 0.5833333333333334\n",
      "\n",
      "10 of kfold 10\n",
      "accuracy_score 0.9279279279279279\n",
      "matrix [[281   4]\n",
      " [ 20  28]]\n",
      "f1 0.7000000000000001\n",
      "pres 0.875\n",
      "rec 0.5833333333333334\n"
     ]
    }
   ],
   "source": [
    "from sklearn import ensemble,tree\n",
    "from sklearn.model_selection import StratifiedKFold\n",
    "from sklearn.metrics import accuracy_score,confusion_matrix,f1_score,precision_score,recall_score\n",
    "import xgboost as xgb\n",
    "from sklearn import linear_model\n",
    "from sklearn import model_selection\n",
    "i=1 \n",
    "scores=[]\n",
    "kf = StratifiedKFold(n_splits=10,random_state=1,shuffle=True) \n",
    "for train_index,test_index in kf.split(X,y):     \n",
    "    print('\\n{} of kfold {}'.format(i,kf.n_splits))    \n",
    "    xtr,xvl = X.loc[train_index],X.loc[test_index]     \n",
    "    ytr,yvl = y[train_index],y[test_index]         \n",
    "    model1=xgb.XGBClassifier(learning_rate=0.01,n_estimators=1200,n_jobs=-1,max_depth=9,min_samples_leaf=50, min_samples_split=1000,max_features=5,subsample=0.6,random_state=42)\n",
    "    #grid={'learning_rate':[0.1,1,0.5,0.75]}\n",
    "    #estimator=model_selection.RandomizedSearchCV(model1,grid,random_state=42,n_jobs=-1,scoring='f1',cv=10)\n",
    "    model1.fit(xtr, ytr)     \n",
    "    pred_test1 =model1.predict(xvl)    \n",
    "    score = accuracy_score(yvl,pred_test1)\n",
    "    scores.append(accuracy_score(yvl,pred_test1))\n",
    "    matrix=confusion_matrix(yvl,pred_test1)\n",
    "    f1=f1_score(yvl,pred_test1)\n",
    "    p=precision_score(yvl,pred_test1)\n",
    "    r=recall_score(yvl,pred_test1)\n",
    "    print('accuracy_score',score)\n",
    "    print('matrix',matrix)\n",
    "    print('f1',f1)\n",
    "    print('pres',p)\n",
    "    print('rec',r)\n",
    "    i+=1"
   ]
  },
  {
   "cell_type": "code",
   "execution_count": 488,
   "metadata": {},
   "outputs": [
    {
     "name": "stdout",
     "output_type": "stream",
     "text": [
      "0.9351944759130388\n"
     ]
    }
   ],
   "source": [
    "print(np.mean(scores))"
   ]
  },
  {
   "cell_type": "code",
   "execution_count": null,
   "metadata": {},
   "outputs": [],
   "source": []
  }
 ],
 "metadata": {
  "kernelspec": {
   "display_name": "Python 3",
   "language": "python",
   "name": "python3"
  },
  "language_info": {
   "codemirror_mode": {
    "name": "ipython",
    "version": 3
   },
   "file_extension": ".py",
   "mimetype": "text/x-python",
   "name": "python",
   "nbconvert_exporter": "python",
   "pygments_lexer": "ipython3",
   "version": "3.7.3"
  }
 },
 "nbformat": 4,
 "nbformat_minor": 2
}
